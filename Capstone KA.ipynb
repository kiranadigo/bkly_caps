{
 "cells": [
  {
   "cell_type": "markdown",
   "id": "5b90ac30-39c4-42d5-a3b5-827028fce43c",
   "metadata": {},
   "source": [
    "# Data Processing"
   ]
  },
  {
   "cell_type": "code",
   "execution_count": 5,
   "id": "4c184d81-c7f3-4a7b-96b4-a8995db9c4a0",
   "metadata": {},
   "outputs": [],
   "source": [
    "#import libraries\n",
    "import pandas as pd\n",
    "import numpy as np\n",
    "import seaborn as sns\n",
    "import matplotlib.pyplot as plt\n",
    "import xgboost as xgb\n",
    "\n",
    "from sklearn.model_selection import train_test_split, cross_val_score, GridSearchCV\n",
    "from sklearn.preprocessing import OneHotEncoder\n",
    "from sklearn.metrics import mean_squared_error, accuracy_score, classification_report\n",
    "from sklearn.pipeline import make_pipeline, Pipeline\n",
    "from sklearn.compose import make_column_transformer\n",
    "from sklearn.preprocessing import StandardScaler\n",
    "\n",
    "from sklearn.feature_selection import SelectKBest\n",
    "from sklearn.feature_selection import chi2\n",
    "from sklearn.preprocessing import MinMaxScaler\n",
    "\n",
    "from sklearn.dummy import DummyRegressor\n",
    "from sklearn.linear_model import LinearRegression\n",
    "from sklearn.neighbors import KNeighborsRegressor\n",
    "from sklearn.svm import SVR\n",
    "from sklearn.tree import DecisionTreeRegressor\n",
    "from sklearn.ensemble import RandomForestRegressor\n",
    "from sklearn.ensemble import BaggingRegressor\n",
    "from sklearn.ensemble import GradientBoostingRegressor\n",
    "from sklearn.ensemble import ExtraTreesRegressor\n",
    "from sklearn.ensemble import AdaBoostRegressor\n",
    "from sklearn.kernel_ridge import KernelRidge\n",
    "from sklearn.linear_model import ElasticNet\n",
    "from sklearn.linear_model import SGDRegressor\n",
    "from sklearn.linear_model import BayesianRidge\n",
    "from xgboost.sklearn import XGBRegressor\n",
    "from sklearn.model_selection import RepeatedKFold\n",
    "\n",
    "import shap\n",
    "import warnings\n",
    "warnings.filterwarnings('ignore')"
   ]
  },
  {
   "cell_type": "code",
   "execution_count": 6,
   "id": "28028161-c824-4ea2-8403-8d47486a782a",
   "metadata": {},
   "outputs": [],
   "source": [
    "rent = pd.read_csv ('data/zori_county.csv')"
   ]
  },
  {
   "cell_type": "code",
   "execution_count": 7,
   "id": "ca952dc2-6534-45ea-914e-dbd5f5d6ec16",
   "metadata": {},
   "outputs": [],
   "source": [
    "rent.drop (columns = [\"RegionID\", \"SizeRank\", \"StateCodeFIPS\", \"MunicipalCodeFIPS\", \"RegionType\", \"StateName\"], inplace = True)"
   ]
  },
  {
   "cell_type": "code",
   "execution_count": 8,
   "id": "a3729e61-ea6a-48ac-9088-524ea99293dd",
   "metadata": {},
   "outputs": [],
   "source": [
    "#use the melt function to transpose columns to rows\n",
    "rent = rent.melt(id_vars=['RegionName', 'State', 'Metro'])"
   ]
  },
  {
   "cell_type": "code",
   "execution_count": 9,
   "id": "8d7e3175-7a2b-4d31-9135-8f55d476dd4a",
   "metadata": {},
   "outputs": [],
   "source": [
    "#renaming and cleanup\n",
    "rent.rename (columns = {\"variable\": \"month\", \"value\" : \"median_rent\", \"RegionName\" : \"county\", \"State\" : \"state\", \"Metro\" : \"metro\"}, inplace = True)\n",
    "rent[\"month\"] = pd.to_datetime (rent [\"month\"])\n",
    "rent[\"month\"] = rent[\"month\"].apply(lambda x: x.replace(day=1))\n",
    "\n",
    "#filter the data for only 2020-2023 rows\n",
    "rent = rent [(rent [\"month\"] > '2020-01-01') & (rent [\"month\"] <= '2023-12-01')]"
   ]
  },
  {
   "cell_type": "code",
   "execution_count": 10,
   "id": "b60ff944-00b9-47e3-9225-04ff1575f9fe",
   "metadata": {},
   "outputs": [
    {
     "name": "stdout",
     "output_type": "stream",
     "text": [
      "54285\n"
     ]
    },
    {
     "data": {
      "text/html": [
       "<div>\n",
       "<style scoped>\n",
       "    .dataframe tbody tr th:only-of-type {\n",
       "        vertical-align: middle;\n",
       "    }\n",
       "\n",
       "    .dataframe tbody tr th {\n",
       "        vertical-align: top;\n",
       "    }\n",
       "\n",
       "    .dataframe thead th {\n",
       "        text-align: right;\n",
       "    }\n",
       "</style>\n",
       "<table border=\"1\" class=\"dataframe\">\n",
       "  <thead>\n",
       "    <tr style=\"text-align: right;\">\n",
       "      <th></th>\n",
       "      <th>county</th>\n",
       "      <th>state</th>\n",
       "      <th>metro</th>\n",
       "      <th>month</th>\n",
       "      <th>median_rent</th>\n",
       "    </tr>\n",
       "  </thead>\n",
       "  <tbody>\n",
       "    <tr>\n",
       "      <th>70455</th>\n",
       "      <td>Los Angeles County</td>\n",
       "      <td>CA</td>\n",
       "      <td>Los Angeles-Long Beach-Anaheim, CA</td>\n",
       "      <td>2020-02-01</td>\n",
       "      <td>2379.831840</td>\n",
       "    </tr>\n",
       "    <tr>\n",
       "      <th>70456</th>\n",
       "      <td>Cook County</td>\n",
       "      <td>IL</td>\n",
       "      <td>Chicago-Naperville-Elgin, IL-IN-WI</td>\n",
       "      <td>2020-02-01</td>\n",
       "      <td>1731.417599</td>\n",
       "    </tr>\n",
       "    <tr>\n",
       "      <th>70457</th>\n",
       "      <td>Harris County</td>\n",
       "      <td>TX</td>\n",
       "      <td>Houston-The Woodlands-Sugar Land, TX</td>\n",
       "      <td>2020-02-01</td>\n",
       "      <td>1386.122902</td>\n",
       "    </tr>\n",
       "    <tr>\n",
       "      <th>70458</th>\n",
       "      <td>Maricopa County</td>\n",
       "      <td>AZ</td>\n",
       "      <td>Phoenix-Mesa-Chandler, AZ</td>\n",
       "      <td>2020-02-01</td>\n",
       "      <td>1362.442188</td>\n",
       "    </tr>\n",
       "    <tr>\n",
       "      <th>70459</th>\n",
       "      <td>San Diego County</td>\n",
       "      <td>CA</td>\n",
       "      <td>San Diego-Chula Vista-Carlsbad, CA</td>\n",
       "      <td>2020-02-01</td>\n",
       "      <td>2210.282441</td>\n",
       "    </tr>\n",
       "  </tbody>\n",
       "</table>\n",
       "</div>"
      ],
      "text/plain": [
       "                   county state                                 metro  \\\n",
       "70455  Los Angeles County    CA    Los Angeles-Long Beach-Anaheim, CA   \n",
       "70456         Cook County    IL    Chicago-Naperville-Elgin, IL-IN-WI   \n",
       "70457       Harris County    TX  Houston-The Woodlands-Sugar Land, TX   \n",
       "70458     Maricopa County    AZ             Phoenix-Mesa-Chandler, AZ   \n",
       "70459    San Diego County    CA    San Diego-Chula Vista-Carlsbad, CA   \n",
       "\n",
       "           month  median_rent  \n",
       "70455 2020-02-01  2379.831840  \n",
       "70456 2020-02-01  1731.417599  \n",
       "70457 2020-02-01  1386.122902  \n",
       "70458 2020-02-01  1362.442188  \n",
       "70459 2020-02-01  2210.282441  "
      ]
     },
     "execution_count": 10,
     "metadata": {},
     "output_type": "execute_result"
    }
   ],
   "source": [
    "print (len(rent))\n",
    "rent.head ()"
   ]
  },
  {
   "cell_type": "code",
   "execution_count": 11,
   "id": "f22c134b-7a04-4da2-a1f5-9e7762f63491",
   "metadata": {},
   "outputs": [
    {
     "data": {
      "text/plain": [
       "county             0\n",
       "state              0\n",
       "metro           2585\n",
       "month              0\n",
       "median_rent    22273\n",
       "dtype: int64"
      ]
     },
     "execution_count": 11,
     "metadata": {},
     "output_type": "execute_result"
    }
   ],
   "source": [
    "rent.isna().sum()"
   ]
  },
  {
   "cell_type": "code",
   "execution_count": 12,
   "id": "39f14654-680d-449b-b9bd-8e4152394069",
   "metadata": {},
   "outputs": [],
   "source": [
    "rent = rent.dropna(subset=['median_rent'])"
   ]
  },
  {
   "cell_type": "markdown",
   "id": "5a5be3bd-c482-404f-b87c-7aa75ed7eaf4",
   "metadata": {},
   "source": [
    "I downloaded Redfin's county level housing sales data from https://www.redfin.com/news/data-center/. The big challenge with using this data extract was the size of the dataset. It consisted of Xm rows of data spanning ten years. In order to extract the period that is relevant to this project, I used pandas to read the tab separate file, filter the data, and then saved it back for future use."
   ]
  },
  {
   "cell_type": "code",
   "execution_count": 13,
   "id": "12d3638d-a192-4a68-b802-59add1d9ca04",
   "metadata": {},
   "outputs": [],
   "source": [
    "housing = pd.read_csv('data/redfin_data.csv')"
   ]
  },
  {
   "cell_type": "code",
   "execution_count": 14,
   "id": "0efef10a-adce-4874-a357-67f0f9f262f3",
   "metadata": {},
   "outputs": [],
   "source": [
    "#filter to all residential types for now, and get only relevant columns\n",
    "housing = housing [[\"period_begin\", \"region\", \"state_code\",\n",
    "                             \"avg_sale_to_list\", \"median_dom\", \"median_ppsf\", \"new_listings\", \"pending_sales\", \"median_list_price\", \n",
    "                            \"median_sale_price\", \"months_of_supply\"]]"
   ]
  },
  {
   "cell_type": "code",
   "execution_count": 15,
   "id": "4e698810-576b-4787-9b1d-8bd188dcd1e6",
   "metadata": {},
   "outputs": [
    {
     "name": "stdout",
     "output_type": "stream",
     "text": [
      "151727\n"
     ]
    },
    {
     "data": {
      "text/html": [
       "<div>\n",
       "<style scoped>\n",
       "    .dataframe tbody tr th:only-of-type {\n",
       "        vertical-align: middle;\n",
       "    }\n",
       "\n",
       "    .dataframe tbody tr th {\n",
       "        vertical-align: top;\n",
       "    }\n",
       "\n",
       "    .dataframe thead th {\n",
       "        text-align: right;\n",
       "    }\n",
       "</style>\n",
       "<table border=\"1\" class=\"dataframe\">\n",
       "  <thead>\n",
       "    <tr style=\"text-align: right;\">\n",
       "      <th></th>\n",
       "      <th>month</th>\n",
       "      <th>county</th>\n",
       "      <th>state</th>\n",
       "      <th>avg_sale_to_list</th>\n",
       "      <th>median_dom</th>\n",
       "      <th>median_ppsf</th>\n",
       "      <th>new_listings</th>\n",
       "      <th>pending_sales</th>\n",
       "      <th>median_list_price</th>\n",
       "      <th>median_sale_price</th>\n",
       "      <th>months_of_supply</th>\n",
       "    </tr>\n",
       "  </thead>\n",
       "  <tbody>\n",
       "    <tr>\n",
       "      <th>0</th>\n",
       "      <td>2023-01-01</td>\n",
       "      <td>Iowa County</td>\n",
       "      <td>IA</td>\n",
       "      <td>0.996708</td>\n",
       "      <td>36.0</td>\n",
       "      <td>123.019563</td>\n",
       "      <td>4.0</td>\n",
       "      <td>6.0</td>\n",
       "      <td>228700.0</td>\n",
       "      <td>197500.0</td>\n",
       "      <td>2.2</td>\n",
       "    </tr>\n",
       "    <tr>\n",
       "      <th>1</th>\n",
       "      <td>2024-01-01</td>\n",
       "      <td>Chouteau County</td>\n",
       "      <td>MT</td>\n",
       "      <td>NaN</td>\n",
       "      <td>1447.0</td>\n",
       "      <td>164.101891</td>\n",
       "      <td>1.0</td>\n",
       "      <td>NaN</td>\n",
       "      <td>155000.0</td>\n",
       "      <td>624900.0</td>\n",
       "      <td>13.0</td>\n",
       "    </tr>\n",
       "    <tr>\n",
       "      <th>2</th>\n",
       "      <td>2021-05-01</td>\n",
       "      <td>Fergus County</td>\n",
       "      <td>MT</td>\n",
       "      <td>NaN</td>\n",
       "      <td>123.0</td>\n",
       "      <td>210.000000</td>\n",
       "      <td>1.0</td>\n",
       "      <td>NaN</td>\n",
       "      <td>569000.0</td>\n",
       "      <td>369900.0</td>\n",
       "      <td>0.8</td>\n",
       "    </tr>\n",
       "    <tr>\n",
       "      <th>3</th>\n",
       "      <td>2023-08-01</td>\n",
       "      <td>Weld County</td>\n",
       "      <td>CO</td>\n",
       "      <td>0.992977</td>\n",
       "      <td>44.0</td>\n",
       "      <td>200.560103</td>\n",
       "      <td>552.0</td>\n",
       "      <td>418.0</td>\n",
       "      <td>493500.0</td>\n",
       "      <td>499900.0</td>\n",
       "      <td>2.9</td>\n",
       "    </tr>\n",
       "    <tr>\n",
       "      <th>4</th>\n",
       "      <td>2023-10-01</td>\n",
       "      <td>Will County</td>\n",
       "      <td>IL</td>\n",
       "      <td>1.000580</td>\n",
       "      <td>49.0</td>\n",
       "      <td>177.240122</td>\n",
       "      <td>684.0</td>\n",
       "      <td>633.0</td>\n",
       "      <td>325000.0</td>\n",
       "      <td>315000.0</td>\n",
       "      <td>2.4</td>\n",
       "    </tr>\n",
       "  </tbody>\n",
       "</table>\n",
       "</div>"
      ],
      "text/plain": [
       "       month           county state  avg_sale_to_list  median_dom  \\\n",
       "0 2023-01-01      Iowa County    IA          0.996708        36.0   \n",
       "1 2024-01-01  Chouteau County    MT               NaN      1447.0   \n",
       "2 2021-05-01    Fergus County    MT               NaN       123.0   \n",
       "3 2023-08-01      Weld County    CO          0.992977        44.0   \n",
       "4 2023-10-01      Will County    IL          1.000580        49.0   \n",
       "\n",
       "   median_ppsf  new_listings  pending_sales  median_list_price  \\\n",
       "0   123.019563           4.0            6.0           228700.0   \n",
       "1   164.101891           1.0            NaN           155000.0   \n",
       "2   210.000000           1.0            NaN           569000.0   \n",
       "3   200.560103         552.0          418.0           493500.0   \n",
       "4   177.240122         684.0          633.0           325000.0   \n",
       "\n",
       "   median_sale_price  months_of_supply  \n",
       "0           197500.0               2.2  \n",
       "1           624900.0              13.0  \n",
       "2           369900.0               0.8  \n",
       "3           499900.0               2.9  \n",
       "4           315000.0               2.4  "
      ]
     },
     "execution_count": 15,
     "metadata": {},
     "output_type": "execute_result"
    }
   ],
   "source": [
    "#rename columns and some basic cleanup\n",
    "housing.rename (columns = {\"period_begin\" : \"month\", \"state_code\" : \"state\", \"region\" : \"county\"}, inplace = True)\n",
    "housing[\"county\"] = housing [\"county\"].str.split(',').str[0]\n",
    "housing[\"month\"] = pd.to_datetime (housing [\"month\"])\n",
    "print (len (housing))\n",
    "pd.options.display.max_columns = None\n",
    "housing.head ()\n"
   ]
  },
  {
   "cell_type": "code",
   "execution_count": 16,
   "id": "cf39db07-cc8a-453d-a4f6-145fe64bb8d0",
   "metadata": {},
   "outputs": [
    {
     "data": {
      "text/html": [
       "<div>\n",
       "<style scoped>\n",
       "    .dataframe tbody tr th:only-of-type {\n",
       "        vertical-align: middle;\n",
       "    }\n",
       "\n",
       "    .dataframe tbody tr th {\n",
       "        vertical-align: top;\n",
       "    }\n",
       "\n",
       "    .dataframe thead th {\n",
       "        text-align: right;\n",
       "    }\n",
       "</style>\n",
       "<table border=\"1\" class=\"dataframe\">\n",
       "  <thead>\n",
       "    <tr style=\"text-align: right;\">\n",
       "      <th></th>\n",
       "      <th>county</th>\n",
       "      <th>state</th>\n",
       "      <th>metro</th>\n",
       "      <th>month</th>\n",
       "      <th>median_rent</th>\n",
       "      <th>avg_sale_to_list</th>\n",
       "      <th>median_dom</th>\n",
       "      <th>median_ppsf</th>\n",
       "      <th>new_listings</th>\n",
       "      <th>pending_sales</th>\n",
       "      <th>median_list_price</th>\n",
       "      <th>median_sale_price</th>\n",
       "      <th>months_of_supply</th>\n",
       "    </tr>\n",
       "  </thead>\n",
       "  <tbody>\n",
       "    <tr>\n",
       "      <th>0</th>\n",
       "      <td>Los Angeles County</td>\n",
       "      <td>CA</td>\n",
       "      <td>Los Angeles-Long Beach-Anaheim, CA</td>\n",
       "      <td>2020-02-01</td>\n",
       "      <td>2379.831840</td>\n",
       "      <td>0.996496</td>\n",
       "      <td>49.0</td>\n",
       "      <td>434.540390</td>\n",
       "      <td>6685.0</td>\n",
       "      <td>4049.0</td>\n",
       "      <td>699900.0</td>\n",
       "      <td>635000.0</td>\n",
       "      <td>3.1</td>\n",
       "    </tr>\n",
       "    <tr>\n",
       "      <th>1</th>\n",
       "      <td>Cook County</td>\n",
       "      <td>IL</td>\n",
       "      <td>Chicago-Naperville-Elgin, IL-IN-WI</td>\n",
       "      <td>2020-02-01</td>\n",
       "      <td>1731.417599</td>\n",
       "      <td>0.968483</td>\n",
       "      <td>73.0</td>\n",
       "      <td>157.208445</td>\n",
       "      <td>7669.0</td>\n",
       "      <td>4615.0</td>\n",
       "      <td>304000.0</td>\n",
       "      <td>242000.0</td>\n",
       "      <td>4.5</td>\n",
       "    </tr>\n",
       "    <tr>\n",
       "      <th>2</th>\n",
       "      <td>Harris County</td>\n",
       "      <td>TX</td>\n",
       "      <td>Houston-The Woodlands-Sugar Land, TX</td>\n",
       "      <td>2020-02-01</td>\n",
       "      <td>1386.122902</td>\n",
       "      <td>0.972165</td>\n",
       "      <td>55.0</td>\n",
       "      <td>111.162181</td>\n",
       "      <td>5726.0</td>\n",
       "      <td>3456.0</td>\n",
       "      <td>250000.0</td>\n",
       "      <td>230000.0</td>\n",
       "      <td>3.9</td>\n",
       "    </tr>\n",
       "    <tr>\n",
       "      <th>3</th>\n",
       "      <td>Maricopa County</td>\n",
       "      <td>AZ</td>\n",
       "      <td>Phoenix-Mesa-Chandler, AZ</td>\n",
       "      <td>2020-02-01</td>\n",
       "      <td>1362.442188</td>\n",
       "      <td>0.985939</td>\n",
       "      <td>41.0</td>\n",
       "      <td>174.431221</td>\n",
       "      <td>7741.0</td>\n",
       "      <td>5949.0</td>\n",
       "      <td>328146.5</td>\n",
       "      <td>310000.0</td>\n",
       "      <td>2.1</td>\n",
       "    </tr>\n",
       "    <tr>\n",
       "      <th>4</th>\n",
       "      <td>San Diego County</td>\n",
       "      <td>CA</td>\n",
       "      <td>San Diego-Chula Vista-Carlsbad, CA</td>\n",
       "      <td>2020-02-01</td>\n",
       "      <td>2210.282441</td>\n",
       "      <td>0.989691</td>\n",
       "      <td>29.0</td>\n",
       "      <td>378.202584</td>\n",
       "      <td>3392.0</td>\n",
       "      <td>2656.0</td>\n",
       "      <td>639000.0</td>\n",
       "      <td>600000.0</td>\n",
       "      <td>2.0</td>\n",
       "    </tr>\n",
       "  </tbody>\n",
       "</table>\n",
       "</div>"
      ],
      "text/plain": [
       "               county state                                 metro      month  \\\n",
       "0  Los Angeles County    CA    Los Angeles-Long Beach-Anaheim, CA 2020-02-01   \n",
       "1         Cook County    IL    Chicago-Naperville-Elgin, IL-IN-WI 2020-02-01   \n",
       "2       Harris County    TX  Houston-The Woodlands-Sugar Land, TX 2020-02-01   \n",
       "3     Maricopa County    AZ             Phoenix-Mesa-Chandler, AZ 2020-02-01   \n",
       "4    San Diego County    CA    San Diego-Chula Vista-Carlsbad, CA 2020-02-01   \n",
       "\n",
       "   median_rent  avg_sale_to_list  median_dom  median_ppsf  new_listings  \\\n",
       "0  2379.831840          0.996496        49.0   434.540390        6685.0   \n",
       "1  1731.417599          0.968483        73.0   157.208445        7669.0   \n",
       "2  1386.122902          0.972165        55.0   111.162181        5726.0   \n",
       "3  1362.442188          0.985939        41.0   174.431221        7741.0   \n",
       "4  2210.282441          0.989691        29.0   378.202584        3392.0   \n",
       "\n",
       "   pending_sales  median_list_price  median_sale_price  months_of_supply  \n",
       "0         4049.0           699900.0           635000.0               3.1  \n",
       "1         4615.0           304000.0           242000.0               4.5  \n",
       "2         3456.0           250000.0           230000.0               3.9  \n",
       "3         5949.0           328146.5           310000.0               2.1  \n",
       "4         2656.0           639000.0           600000.0               2.0  "
      ]
     },
     "execution_count": 16,
     "metadata": {},
     "output_type": "execute_result"
    }
   ],
   "source": [
    "#join the housing sales data into the rent dataset\n",
    "rent_merged =  pd.merge(rent, housing, on = [\"month\", \"county\", \"state\"], how = \"inner\")\n",
    "rent_merged.head()"
   ]
  },
  {
   "cell_type": "code",
   "execution_count": 17,
   "id": "04a31d70-e344-4140-8010-a957844a6421",
   "metadata": {},
   "outputs": [],
   "source": [
    "countypop = pd.read_csv('data/population_county.csv')"
   ]
  },
  {
   "cell_type": "code",
   "execution_count": 18,
   "id": "a51a6ece-59d0-457c-84ad-385fe36d9f6f",
   "metadata": {},
   "outputs": [],
   "source": [
    "countypop.rename (columns = {\"Rural_Urban_Continuum_Code_2023\" : \"rural_urban_code\", \"Urban_Influence_2013\" : \"urban_type\"}, inplace = True)\n",
    "countypop.drop (columns = [\"Economic_typology_2015\", \"CENSUS_2020_POP\", \"ESTIMATES_BASE_2020\"], inplace = True)\n",
    "\n",
    "countypop = countypop.loc[:,~countypop.columns.str.startswith('R_')]\n",
    "countypop = countypop.loc[:,~countypop.columns.str.startswith('GQ_')]\n",
    "countypop = countypop.loc[:,~countypop.columns.str.startswith('RESIDUAL_')]"
   ]
  },
  {
   "cell_type": "code",
   "execution_count": 19,
   "id": "21a6eb07-78c4-4368-b654-2d1415dfeb9c",
   "metadata": {},
   "outputs": [
    {
     "data": {
      "text/html": [
       "<div>\n",
       "<style scoped>\n",
       "    .dataframe tbody tr th:only-of-type {\n",
       "        vertical-align: middle;\n",
       "    }\n",
       "\n",
       "    .dataframe tbody tr th {\n",
       "        vertical-align: top;\n",
       "    }\n",
       "\n",
       "    .dataframe thead th {\n",
       "        text-align: right;\n",
       "    }\n",
       "</style>\n",
       "<table border=\"1\" class=\"dataframe\">\n",
       "  <thead>\n",
       "    <tr style=\"text-align: right;\">\n",
       "      <th></th>\n",
       "      <th>fipstxt</th>\n",
       "      <th>state</th>\n",
       "      <th>county</th>\n",
       "      <th>rural_urban_continuum_code_2013</th>\n",
       "      <th>rural_urban_code</th>\n",
       "      <th>urban_type</th>\n",
       "      <th>pop_estimate_2020</th>\n",
       "      <th>pop_estimate_2021</th>\n",
       "      <th>pop_estimate_2022</th>\n",
       "      <th>pop_estimate_2023</th>\n",
       "      <th>n_pop_chg_2020</th>\n",
       "      <th>n_pop_chg_2021</th>\n",
       "      <th>n_pop_chg_2022</th>\n",
       "      <th>n_pop_chg_2023</th>\n",
       "      <th>births_2020</th>\n",
       "      <th>births_2021</th>\n",
       "      <th>births_2022</th>\n",
       "      <th>births_2023</th>\n",
       "      <th>deaths_2020</th>\n",
       "      <th>deaths_2021</th>\n",
       "      <th>deaths_2022</th>\n",
       "      <th>deaths_2023</th>\n",
       "      <th>natural_chg_2020</th>\n",
       "      <th>natural_chg_2021</th>\n",
       "      <th>natural_chg_2022</th>\n",
       "      <th>natural_chg_2023</th>\n",
       "      <th>international_mig_2020</th>\n",
       "      <th>international_mig_2021</th>\n",
       "      <th>international_mig_2022</th>\n",
       "      <th>international_mig_2023</th>\n",
       "      <th>domestic_mig_2020</th>\n",
       "      <th>domestic_mig_2021</th>\n",
       "      <th>domestic_mig_2022</th>\n",
       "      <th>domestic_mig_2023</th>\n",
       "      <th>net_mig_2020</th>\n",
       "      <th>net_mig_2021</th>\n",
       "      <th>net_mig_2022</th>\n",
       "      <th>net_mig_2023</th>\n",
       "    </tr>\n",
       "  </thead>\n",
       "  <tbody>\n",
       "    <tr>\n",
       "      <th>0</th>\n",
       "      <td>1001</td>\n",
       "      <td>AL</td>\n",
       "      <td>Autauga County</td>\n",
       "      <td>2.0</td>\n",
       "      <td>2.0</td>\n",
       "      <td>2.0</td>\n",
       "      <td>58,915</td>\n",
       "      <td>59,203</td>\n",
       "      <td>59,726</td>\n",
       "      <td>60,342</td>\n",
       "      <td>106</td>\n",
       "      <td>288</td>\n",
       "      <td>523</td>\n",
       "      <td>616</td>\n",
       "      <td>162</td>\n",
       "      <td>686</td>\n",
       "      <td>706</td>\n",
       "      <td>714</td>\n",
       "      <td>176</td>\n",
       "      <td>696</td>\n",
       "      <td>687</td>\n",
       "      <td>621</td>\n",
       "      <td>-14</td>\n",
       "      <td>-10</td>\n",
       "      <td>19</td>\n",
       "      <td>93</td>\n",
       "      <td>0.0</td>\n",
       "      <td>15</td>\n",
       "      <td>22</td>\n",
       "      <td>34</td>\n",
       "      <td>100</td>\n",
       "      <td>242</td>\n",
       "      <td>507</td>\n",
       "      <td>491</td>\n",
       "      <td>100</td>\n",
       "      <td>257</td>\n",
       "      <td>529</td>\n",
       "      <td>525</td>\n",
       "    </tr>\n",
       "    <tr>\n",
       "      <th>1</th>\n",
       "      <td>1003</td>\n",
       "      <td>AL</td>\n",
       "      <td>Baldwin County</td>\n",
       "      <td>3.0</td>\n",
       "      <td>3.0</td>\n",
       "      <td>2.0</td>\n",
       "      <td>233,227</td>\n",
       "      <td>239,439</td>\n",
       "      <td>246,531</td>\n",
       "      <td>253,507</td>\n",
       "      <td>1,459</td>\n",
       "      <td>6,212</td>\n",
       "      <td>7,092</td>\n",
       "      <td>6,976</td>\n",
       "      <td>560</td>\n",
       "      <td>2,337</td>\n",
       "      <td>2,511</td>\n",
       "      <td>2,531</td>\n",
       "      <td>602</td>\n",
       "      <td>2,948</td>\n",
       "      <td>3,022</td>\n",
       "      <td>2,640</td>\n",
       "      <td>-42</td>\n",
       "      <td>-611</td>\n",
       "      <td>-511</td>\n",
       "      <td>-109</td>\n",
       "      <td>11.0</td>\n",
       "      <td>105</td>\n",
       "      <td>250</td>\n",
       "      <td>291</td>\n",
       "      <td>1,613</td>\n",
       "      <td>6,972</td>\n",
       "      <td>7,036</td>\n",
       "      <td>6,804</td>\n",
       "      <td>1,624</td>\n",
       "      <td>7,077</td>\n",
       "      <td>7,286</td>\n",
       "      <td>7,095</td>\n",
       "    </tr>\n",
       "    <tr>\n",
       "      <th>2</th>\n",
       "      <td>1005</td>\n",
       "      <td>AL</td>\n",
       "      <td>Barbour County</td>\n",
       "      <td>6.0</td>\n",
       "      <td>6.0</td>\n",
       "      <td>6.0</td>\n",
       "      <td>24,969</td>\n",
       "      <td>24,533</td>\n",
       "      <td>24,700</td>\n",
       "      <td>24,585</td>\n",
       "      <td>-260</td>\n",
       "      <td>-436</td>\n",
       "      <td>167</td>\n",
       "      <td>-115</td>\n",
       "      <td>60</td>\n",
       "      <td>270</td>\n",
       "      <td>278</td>\n",
       "      <td>267</td>\n",
       "      <td>92</td>\n",
       "      <td>390</td>\n",
       "      <td>363</td>\n",
       "      <td>350</td>\n",
       "      <td>-32</td>\n",
       "      <td>-120</td>\n",
       "      <td>-85</td>\n",
       "      <td>-83</td>\n",
       "      <td>0.0</td>\n",
       "      <td>0</td>\n",
       "      <td>2</td>\n",
       "      <td>13</td>\n",
       "      <td>-186</td>\n",
       "      <td>-313</td>\n",
       "      <td>237</td>\n",
       "      <td>-45</td>\n",
       "      <td>-186</td>\n",
       "      <td>-313</td>\n",
       "      <td>239</td>\n",
       "      <td>-32</td>\n",
       "    </tr>\n",
       "    <tr>\n",
       "      <th>3</th>\n",
       "      <td>1007</td>\n",
       "      <td>AL</td>\n",
       "      <td>Bibb County</td>\n",
       "      <td>1.0</td>\n",
       "      <td>1.0</td>\n",
       "      <td>1.0</td>\n",
       "      <td>22,188</td>\n",
       "      <td>22,359</td>\n",
       "      <td>21,986</td>\n",
       "      <td>21,868</td>\n",
       "      <td>-113</td>\n",
       "      <td>171</td>\n",
       "      <td>-373</td>\n",
       "      <td>-118</td>\n",
       "      <td>56</td>\n",
       "      <td>240</td>\n",
       "      <td>236</td>\n",
       "      <td>240</td>\n",
       "      <td>55</td>\n",
       "      <td>325</td>\n",
       "      <td>314</td>\n",
       "      <td>290</td>\n",
       "      <td>1</td>\n",
       "      <td>-85</td>\n",
       "      <td>-78</td>\n",
       "      <td>-50</td>\n",
       "      <td>0.0</td>\n",
       "      <td>1</td>\n",
       "      <td>1</td>\n",
       "      <td>1</td>\n",
       "      <td>-101</td>\n",
       "      <td>254</td>\n",
       "      <td>-303</td>\n",
       "      <td>-69</td>\n",
       "      <td>-101</td>\n",
       "      <td>255</td>\n",
       "      <td>-302</td>\n",
       "      <td>-68</td>\n",
       "    </tr>\n",
       "    <tr>\n",
       "      <th>4</th>\n",
       "      <td>1009</td>\n",
       "      <td>AL</td>\n",
       "      <td>Blount County</td>\n",
       "      <td>1.0</td>\n",
       "      <td>1.0</td>\n",
       "      <td>1.0</td>\n",
       "      <td>59,107</td>\n",
       "      <td>59,079</td>\n",
       "      <td>59,516</td>\n",
       "      <td>59,816</td>\n",
       "      <td>-23</td>\n",
       "      <td>-28</td>\n",
       "      <td>437</td>\n",
       "      <td>300</td>\n",
       "      <td>137</td>\n",
       "      <td>654</td>\n",
       "      <td>693</td>\n",
       "      <td>698</td>\n",
       "      <td>199</td>\n",
       "      <td>875</td>\n",
       "      <td>846</td>\n",
       "      <td>776</td>\n",
       "      <td>-62</td>\n",
       "      <td>-221</td>\n",
       "      <td>-153</td>\n",
       "      <td>-78</td>\n",
       "      <td>1.0</td>\n",
       "      <td>9</td>\n",
       "      <td>8</td>\n",
       "      <td>24</td>\n",
       "      <td>21</td>\n",
       "      <td>141</td>\n",
       "      <td>589</td>\n",
       "      <td>358</td>\n",
       "      <td>22</td>\n",
       "      <td>150</td>\n",
       "      <td>597</td>\n",
       "      <td>382</td>\n",
       "    </tr>\n",
       "  </tbody>\n",
       "</table>\n",
       "</div>"
      ],
      "text/plain": [
       "   fipstxt state          county  rural_urban_continuum_code_2013  \\\n",
       "0     1001    AL  Autauga County                              2.0   \n",
       "1     1003    AL  Baldwin County                              3.0   \n",
       "2     1005    AL  Barbour County                              6.0   \n",
       "3     1007    AL     Bibb County                              1.0   \n",
       "4     1009    AL   Blount County                              1.0   \n",
       "\n",
       "   rural_urban_code  urban_type pop_estimate_2020 pop_estimate_2021  \\\n",
       "0               2.0         2.0            58,915            59,203   \n",
       "1               3.0         2.0           233,227           239,439   \n",
       "2               6.0         6.0            24,969            24,533   \n",
       "3               1.0         1.0            22,188            22,359   \n",
       "4               1.0         1.0            59,107            59,079   \n",
       "\n",
       "  pop_estimate_2022 pop_estimate_2023 n_pop_chg_2020 n_pop_chg_2021  \\\n",
       "0            59,726            60,342            106            288   \n",
       "1           246,531           253,507          1,459          6,212   \n",
       "2            24,700            24,585           -260           -436   \n",
       "3            21,986            21,868           -113            171   \n",
       "4            59,516            59,816            -23            -28   \n",
       "\n",
       "  n_pop_chg_2022 n_pop_chg_2023 births_2020 births_2021 births_2022  \\\n",
       "0            523            616         162         686         706   \n",
       "1          7,092          6,976         560       2,337       2,511   \n",
       "2            167           -115          60         270         278   \n",
       "3           -373           -118          56         240         236   \n",
       "4            437            300         137         654         693   \n",
       "\n",
       "  births_2023 deaths_2020 deaths_2021 deaths_2022 deaths_2023  \\\n",
       "0         714         176         696         687         621   \n",
       "1       2,531         602       2,948       3,022       2,640   \n",
       "2         267          92         390         363         350   \n",
       "3         240          55         325         314         290   \n",
       "4         698         199         875         846         776   \n",
       "\n",
       "  natural_chg_2020 natural_chg_2021 natural_chg_2022 natural_chg_2023  \\\n",
       "0              -14              -10               19               93   \n",
       "1              -42             -611             -511             -109   \n",
       "2              -32             -120              -85              -83   \n",
       "3                1              -85              -78              -50   \n",
       "4              -62             -221             -153              -78   \n",
       "\n",
       "   international_mig_2020 international_mig_2021 international_mig_2022  \\\n",
       "0                     0.0                     15                     22   \n",
       "1                    11.0                    105                    250   \n",
       "2                     0.0                      0                      2   \n",
       "3                     0.0                      1                      1   \n",
       "4                     1.0                      9                      8   \n",
       "\n",
       "  international_mig_2023 domestic_mig_2020 domestic_mig_2021  \\\n",
       "0                     34               100               242   \n",
       "1                    291             1,613             6,972   \n",
       "2                     13              -186              -313   \n",
       "3                      1              -101               254   \n",
       "4                     24                21               141   \n",
       "\n",
       "  domestic_mig_2022 domestic_mig_2023 net_mig_2020 net_mig_2021 net_mig_2022  \\\n",
       "0               507               491          100          257          529   \n",
       "1             7,036             6,804        1,624        7,077        7,286   \n",
       "2               237               -45         -186         -313          239   \n",
       "3              -303               -69         -101          255         -302   \n",
       "4               589               358           22          150          597   \n",
       "\n",
       "  net_mig_2023  \n",
       "0          525  \n",
       "1        7,095  \n",
       "2          -32  \n",
       "3          -68  \n",
       "4          382  "
      ]
     },
     "execution_count": 19,
     "metadata": {},
     "output_type": "execute_result"
    }
   ],
   "source": [
    "countypop.rename (columns = {\"Area_Name\" : \"county\", \"State\" : \"state\"}, inplace = True)\n",
    "countypop.columns = [x.lower() for x in countypop.columns]\n",
    "countypop.head()"
   ]
  },
  {
   "cell_type": "code",
   "execution_count": 20,
   "id": "be355f0b-8582-4f92-9202-723c1fa4ea84",
   "metadata": {},
   "outputs": [
    {
     "data": {
      "text/html": [
       "<div>\n",
       "<style scoped>\n",
       "    .dataframe tbody tr th:only-of-type {\n",
       "        vertical-align: middle;\n",
       "    }\n",
       "\n",
       "    .dataframe tbody tr th {\n",
       "        vertical-align: top;\n",
       "    }\n",
       "\n",
       "    .dataframe thead th {\n",
       "        text-align: right;\n",
       "    }\n",
       "</style>\n",
       "<table border=\"1\" class=\"dataframe\">\n",
       "  <thead>\n",
       "    <tr style=\"text-align: right;\">\n",
       "      <th></th>\n",
       "      <th>state</th>\n",
       "      <th>county</th>\n",
       "      <th>rural_urban_code</th>\n",
       "      <th>urban_type</th>\n",
       "      <th>pop_estimate</th>\n",
       "      <th>natural_chg</th>\n",
       "      <th>net_mig</th>\n",
       "      <th>month</th>\n",
       "    </tr>\n",
       "  </thead>\n",
       "  <tbody>\n",
       "    <tr>\n",
       "      <th>0</th>\n",
       "      <td>AL</td>\n",
       "      <td>Autauga County</td>\n",
       "      <td>2.0</td>\n",
       "      <td>2.0</td>\n",
       "      <td>58915.0</td>\n",
       "      <td>-14.0</td>\n",
       "      <td>100.0</td>\n",
       "      <td>2020-01-01</td>\n",
       "    </tr>\n",
       "    <tr>\n",
       "      <th>1</th>\n",
       "      <td>AL</td>\n",
       "      <td>Baldwin County</td>\n",
       "      <td>3.0</td>\n",
       "      <td>2.0</td>\n",
       "      <td>233227.0</td>\n",
       "      <td>-42.0</td>\n",
       "      <td>1624.0</td>\n",
       "      <td>2020-01-01</td>\n",
       "    </tr>\n",
       "    <tr>\n",
       "      <th>2</th>\n",
       "      <td>AL</td>\n",
       "      <td>Barbour County</td>\n",
       "      <td>6.0</td>\n",
       "      <td>6.0</td>\n",
       "      <td>24969.0</td>\n",
       "      <td>-32.0</td>\n",
       "      <td>-186.0</td>\n",
       "      <td>2020-01-01</td>\n",
       "    </tr>\n",
       "    <tr>\n",
       "      <th>3</th>\n",
       "      <td>AL</td>\n",
       "      <td>Bibb County</td>\n",
       "      <td>1.0</td>\n",
       "      <td>1.0</td>\n",
       "      <td>22188.0</td>\n",
       "      <td>1.0</td>\n",
       "      <td>-101.0</td>\n",
       "      <td>2020-01-01</td>\n",
       "    </tr>\n",
       "    <tr>\n",
       "      <th>4</th>\n",
       "      <td>AL</td>\n",
       "      <td>Blount County</td>\n",
       "      <td>1.0</td>\n",
       "      <td>1.0</td>\n",
       "      <td>59107.0</td>\n",
       "      <td>-62.0</td>\n",
       "      <td>22.0</td>\n",
       "      <td>2020-01-01</td>\n",
       "    </tr>\n",
       "  </tbody>\n",
       "</table>\n",
       "</div>"
      ],
      "text/plain": [
       "  state          county  rural_urban_code  urban_type  pop_estimate  \\\n",
       "0    AL  Autauga County               2.0         2.0       58915.0   \n",
       "1    AL  Baldwin County               3.0         2.0      233227.0   \n",
       "2    AL  Barbour County               6.0         6.0       24969.0   \n",
       "3    AL     Bibb County               1.0         1.0       22188.0   \n",
       "4    AL   Blount County               1.0         1.0       59107.0   \n",
       "\n",
       "   natural_chg  net_mig      month  \n",
       "0        -14.0    100.0 2020-01-01  \n",
       "1        -42.0   1624.0 2020-01-01  \n",
       "2        -32.0   -186.0 2020-01-01  \n",
       "3          1.0   -101.0 2020-01-01  \n",
       "4        -62.0     22.0 2020-01-01  "
      ]
     },
     "execution_count": 20,
     "metadata": {},
     "output_type": "execute_result"
    }
   ],
   "source": [
    "#the county level data is in column format, make it row-wise and apply it to each year\n",
    "countypop_combined = pd.DataFrame ()\n",
    "\n",
    "for year in range (2020, 2024, 1):\n",
    "    cols = countypop.columns [countypop.columns.str.contains (str(year))].tolist()\n",
    "    cols = list([\"state\", \"county\", \"rural_urban_code\", \"urban_type\"]) + cols\n",
    "    #print (cols)\n",
    "    \n",
    "    countypop_year = countypop [cols]\n",
    "    countypop_year.columns = [c.replace(\"_\" + str(year), \"\") for c in list(countypop_year.columns)]\n",
    "    countypop_year [\"month\"] = pd.to_datetime (str(year) + \"-01-01\")\n",
    "    #print (countypop_year.columns)\n",
    "\n",
    "    countypop_combined = pd.concat ([countypop_combined, countypop_year])\n",
    "\n",
    "\n",
    "countypop_combined.drop (columns = [\"n_pop_chg\", \"births\", \"deaths\", \"international_mig\", \"domestic_mig\"], inplace = True)\n",
    "countypop_combined [\"pop_estimate\"] = pd.to_numeric(countypop_combined [\"pop_estimate\"].str.replace(',',''), errors='coerce')\n",
    "countypop_combined [\"natural_chg\"] = pd.to_numeric(countypop_combined [\"natural_chg\"].str.replace(',',''), errors='coerce')\n",
    "countypop_combined [\"net_mig\"] = pd.to_numeric(countypop_combined [\"net_mig\"].str.replace(',',''), errors='coerce')\n",
    "\n",
    "pd.options.display.max_columns = None\n",
    "countypop_combined.head()\n",
    "\n"
   ]
  },
  {
   "cell_type": "code",
   "execution_count": 21,
   "id": "96159f1b-d79c-4e01-929b-6a3ae53e665e",
   "metadata": {},
   "outputs": [
    {
     "data": {
      "text/html": [
       "<div>\n",
       "<style scoped>\n",
       "    .dataframe tbody tr th:only-of-type {\n",
       "        vertical-align: middle;\n",
       "    }\n",
       "\n",
       "    .dataframe tbody tr th {\n",
       "        vertical-align: top;\n",
       "    }\n",
       "\n",
       "    .dataframe thead th {\n",
       "        text-align: right;\n",
       "    }\n",
       "</style>\n",
       "<table border=\"1\" class=\"dataframe\">\n",
       "  <thead>\n",
       "    <tr style=\"text-align: right;\">\n",
       "      <th></th>\n",
       "      <th>county</th>\n",
       "      <th>state</th>\n",
       "      <th>metro</th>\n",
       "      <th>month</th>\n",
       "      <th>median_rent</th>\n",
       "      <th>avg_sale_to_list</th>\n",
       "      <th>median_dom</th>\n",
       "      <th>median_ppsf</th>\n",
       "      <th>new_listings</th>\n",
       "      <th>pending_sales</th>\n",
       "      <th>median_list_price</th>\n",
       "      <th>median_sale_price</th>\n",
       "      <th>months_of_supply</th>\n",
       "      <th>rural_urban_code</th>\n",
       "      <th>urban_type</th>\n",
       "      <th>pop_estimate</th>\n",
       "      <th>natural_chg</th>\n",
       "      <th>net_mig</th>\n",
       "    </tr>\n",
       "  </thead>\n",
       "  <tbody>\n",
       "    <tr>\n",
       "      <th>0</th>\n",
       "      <td>Los Angeles County</td>\n",
       "      <td>CA</td>\n",
       "      <td>Los Angeles-Long Beach-Anaheim, CA</td>\n",
       "      <td>2020-02-01</td>\n",
       "      <td>2379.831840</td>\n",
       "      <td>0.996496</td>\n",
       "      <td>49.0</td>\n",
       "      <td>434.540390</td>\n",
       "      <td>6685.0</td>\n",
       "      <td>4049.0</td>\n",
       "      <td>699900.0</td>\n",
       "      <td>635000.0</td>\n",
       "      <td>3.1</td>\n",
       "      <td>1.0</td>\n",
       "      <td>1.0</td>\n",
       "      <td>9992813.0</td>\n",
       "      <td>3845.0</td>\n",
       "      <td>-25335.0</td>\n",
       "    </tr>\n",
       "    <tr>\n",
       "      <th>1</th>\n",
       "      <td>Los Angeles County</td>\n",
       "      <td>CA</td>\n",
       "      <td>Los Angeles-Long Beach-Anaheim, CA</td>\n",
       "      <td>2020-03-01</td>\n",
       "      <td>2380.162607</td>\n",
       "      <td>1.002147</td>\n",
       "      <td>41.0</td>\n",
       "      <td>440.816327</td>\n",
       "      <td>6197.0</td>\n",
       "      <td>4581.0</td>\n",
       "      <td>696000.0</td>\n",
       "      <td>660000.0</td>\n",
       "      <td>2.6</td>\n",
       "      <td>1.0</td>\n",
       "      <td>1.0</td>\n",
       "      <td>9992813.0</td>\n",
       "      <td>3845.0</td>\n",
       "      <td>-25335.0</td>\n",
       "    </tr>\n",
       "    <tr>\n",
       "      <th>2</th>\n",
       "      <td>Los Angeles County</td>\n",
       "      <td>CA</td>\n",
       "      <td>Los Angeles-Long Beach-Anaheim, CA</td>\n",
       "      <td>2020-04-01</td>\n",
       "      <td>2371.452016</td>\n",
       "      <td>1.000256</td>\n",
       "      <td>38.0</td>\n",
       "      <td>430.261294</td>\n",
       "      <td>4394.0</td>\n",
       "      <td>3405.0</td>\n",
       "      <td>675000.0</td>\n",
       "      <td>650000.0</td>\n",
       "      <td>3.5</td>\n",
       "      <td>1.0</td>\n",
       "      <td>1.0</td>\n",
       "      <td>9992813.0</td>\n",
       "      <td>3845.0</td>\n",
       "      <td>-25335.0</td>\n",
       "    </tr>\n",
       "    <tr>\n",
       "      <th>3</th>\n",
       "      <td>Los Angeles County</td>\n",
       "      <td>CA</td>\n",
       "      <td>Los Angeles-Long Beach-Anaheim, CA</td>\n",
       "      <td>2020-05-01</td>\n",
       "      <td>2361.831612</td>\n",
       "      <td>0.992456</td>\n",
       "      <td>44.0</td>\n",
       "      <td>432.357043</td>\n",
       "      <td>6396.0</td>\n",
       "      <td>3842.0</td>\n",
       "      <td>738000.0</td>\n",
       "      <td>635000.0</td>\n",
       "      <td>4.7</td>\n",
       "      <td>1.0</td>\n",
       "      <td>1.0</td>\n",
       "      <td>9992813.0</td>\n",
       "      <td>3845.0</td>\n",
       "      <td>-25335.0</td>\n",
       "    </tr>\n",
       "    <tr>\n",
       "      <th>4</th>\n",
       "      <td>Los Angeles County</td>\n",
       "      <td>CA</td>\n",
       "      <td>Los Angeles-Long Beach-Anaheim, CA</td>\n",
       "      <td>2020-06-01</td>\n",
       "      <td>2355.978817</td>\n",
       "      <td>0.993162</td>\n",
       "      <td>43.0</td>\n",
       "      <td>434.108527</td>\n",
       "      <td>7287.0</td>\n",
       "      <td>4870.0</td>\n",
       "      <td>740000.0</td>\n",
       "      <td>655000.0</td>\n",
       "      <td>3.4</td>\n",
       "      <td>1.0</td>\n",
       "      <td>1.0</td>\n",
       "      <td>9992813.0</td>\n",
       "      <td>3845.0</td>\n",
       "      <td>-25335.0</td>\n",
       "    </tr>\n",
       "  </tbody>\n",
       "</table>\n",
       "</div>"
      ],
      "text/plain": [
       "               county state                               metro      month  \\\n",
       "0  Los Angeles County    CA  Los Angeles-Long Beach-Anaheim, CA 2020-02-01   \n",
       "1  Los Angeles County    CA  Los Angeles-Long Beach-Anaheim, CA 2020-03-01   \n",
       "2  Los Angeles County    CA  Los Angeles-Long Beach-Anaheim, CA 2020-04-01   \n",
       "3  Los Angeles County    CA  Los Angeles-Long Beach-Anaheim, CA 2020-05-01   \n",
       "4  Los Angeles County    CA  Los Angeles-Long Beach-Anaheim, CA 2020-06-01   \n",
       "\n",
       "   median_rent  avg_sale_to_list  median_dom  median_ppsf  new_listings  \\\n",
       "0  2379.831840          0.996496        49.0   434.540390        6685.0   \n",
       "1  2380.162607          1.002147        41.0   440.816327        6197.0   \n",
       "2  2371.452016          1.000256        38.0   430.261294        4394.0   \n",
       "3  2361.831612          0.992456        44.0   432.357043        6396.0   \n",
       "4  2355.978817          0.993162        43.0   434.108527        7287.0   \n",
       "\n",
       "   pending_sales  median_list_price  median_sale_price  months_of_supply  \\\n",
       "0         4049.0           699900.0           635000.0               3.1   \n",
       "1         4581.0           696000.0           660000.0               2.6   \n",
       "2         3405.0           675000.0           650000.0               3.5   \n",
       "3         3842.0           738000.0           635000.0               4.7   \n",
       "4         4870.0           740000.0           655000.0               3.4   \n",
       "\n",
       "   rural_urban_code  urban_type  pop_estimate  natural_chg  net_mig  \n",
       "0               1.0         1.0     9992813.0       3845.0 -25335.0  \n",
       "1               1.0         1.0     9992813.0       3845.0 -25335.0  \n",
       "2               1.0         1.0     9992813.0       3845.0 -25335.0  \n",
       "3               1.0         1.0     9992813.0       3845.0 -25335.0  \n",
       "4               1.0         1.0     9992813.0       3845.0 -25335.0  "
      ]
     },
     "execution_count": 21,
     "metadata": {},
     "output_type": "execute_result"
    }
   ],
   "source": [
    "rent_enriched =  pd.merge(rent_merged.assign(grouper=rent_merged['month'].dt.to_period('Y')), \n",
    "                     countypop_combined.assign(grouper=countypop_combined['month'].dt.to_period('Y')), \n",
    "                         on = [\"grouper\", \"county\", \"state\"], how = \"inner\")\n",
    "\n",
    "rent_enriched.drop (columns = [\"month_y\", \"grouper\"], inplace = True)\n",
    "rent_enriched.rename (columns = {\"month_x\": \"month\"}, inplace = True)\n",
    "rent_enriched.head()\n"
   ]
  },
  {
   "cell_type": "code",
   "execution_count": 22,
   "id": "206edca5-69bd-4a42-b5ca-066925014f33",
   "metadata": {},
   "outputs": [],
   "source": [
    "#filter the data to exlcude big metros\n",
    "rent_enriched = rent_enriched [rent_enriched[\"rural_urban_code\"] > 2]\n",
    "\n",
    "#filter the data to exlcude very small towns\n",
    "rent_enriched = rent_enriched [rent_enriched[\"pop_estimate\"] > 100000]\n"
   ]
  },
  {
   "cell_type": "code",
   "execution_count": 23,
   "id": "ff059e28-4a53-4053-9e2f-9dbc1b182151",
   "metadata": {},
   "outputs": [],
   "source": [
    "#interest rates data\n",
    "interest_rates = pd.read_csv (\"data/interest_rates.csv\")"
   ]
  },
  {
   "cell_type": "code",
   "execution_count": 24,
   "id": "50e702e4-b0af-4000-882e-bdd94a1e1be3",
   "metadata": {},
   "outputs": [
    {
     "name": "stdout",
     "output_type": "stream",
     "text": [
      "<class 'pandas.core.frame.DataFrame'>\n",
      "RangeIndex: 48 entries, 0 to 47\n",
      "Data columns (total 2 columns):\n",
      " #   Column         Non-Null Count  Dtype         \n",
      "---  ------         --------------  -----         \n",
      " 0   month          48 non-null     datetime64[ns]\n",
      " 1   interest_rate  48 non-null     float64       \n",
      "dtypes: datetime64[ns](1), float64(1)\n",
      "memory usage: 900.0 bytes\n"
     ]
    }
   ],
   "source": [
    "interest_rates[\"month\"] = pd.to_datetime(interest_rates[\"month\"])\n",
    "interest_rates.info()"
   ]
  },
  {
   "cell_type": "code",
   "execution_count": 25,
   "id": "15e1c124-c503-4eac-a0a5-472dbbb95266",
   "metadata": {},
   "outputs": [],
   "source": [
    "rent_enriched =  pd.merge(rent_enriched, interest_rates, \n",
    "                         on = [\"month\"], how = \"left\")\n"
   ]
  },
  {
   "cell_type": "code",
   "execution_count": 26,
   "id": "9060fb11-8cab-465a-9c56-c7113d336db3",
   "metadata": {},
   "outputs": [
    {
     "name": "stdout",
     "output_type": "stream",
     "text": [
      "<class 'pandas.core.frame.DataFrame'>\n",
      "RangeIndex: 5356 entries, 0 to 5355\n",
      "Data columns (total 19 columns):\n",
      " #   Column             Non-Null Count  Dtype         \n",
      "---  ------             --------------  -----         \n",
      " 0   county             5356 non-null   object        \n",
      " 1   state              5356 non-null   object        \n",
      " 2   metro              5356 non-null   object        \n",
      " 3   month              5356 non-null   datetime64[ns]\n",
      " 4   median_rent        5356 non-null   float64       \n",
      " 5   avg_sale_to_list   5059 non-null   float64       \n",
      " 6   median_dom         5356 non-null   float64       \n",
      " 7   median_ppsf        5356 non-null   float64       \n",
      " 8   new_listings       5356 non-null   float64       \n",
      " 9   pending_sales      5356 non-null   float64       \n",
      " 10  median_list_price  5356 non-null   float64       \n",
      " 11  median_sale_price  5356 non-null   float64       \n",
      " 12  months_of_supply   5356 non-null   float64       \n",
      " 13  rural_urban_code   5356 non-null   float64       \n",
      " 14  urban_type         5356 non-null   float64       \n",
      " 15  pop_estimate       5356 non-null   float64       \n",
      " 16  natural_chg        5356 non-null   float64       \n",
      " 17  net_mig            5356 non-null   float64       \n",
      " 18  interest_rate      5356 non-null   float64       \n",
      "dtypes: datetime64[ns](1), float64(15), object(3)\n",
      "memory usage: 795.2+ KB\n"
     ]
    }
   ],
   "source": [
    "rent_enriched.info()"
   ]
  },
  {
   "cell_type": "code",
   "execution_count": 27,
   "id": "b486b937-879d-4275-943c-c365eb11a398",
   "metadata": {},
   "outputs": [
    {
     "data": {
      "text/plain": [
       "141"
      ]
     },
     "execution_count": 27,
     "metadata": {},
     "output_type": "execute_result"
    }
   ],
   "source": [
    "rent_enriched.county.nunique()"
   ]
  },
  {
   "cell_type": "code",
   "execution_count": 28,
   "id": "1cf13351-1983-4ef8-96b4-cb603ab06f7e",
   "metadata": {
    "scrolled": true
   },
   "outputs": [
    {
     "data": {
      "text/plain": [
       "county                 0\n",
       "state                  0\n",
       "metro                  0\n",
       "month                  0\n",
       "median_rent            0\n",
       "avg_sale_to_list     297\n",
       "median_dom             0\n",
       "median_ppsf            0\n",
       "new_listings           0\n",
       "pending_sales          0\n",
       "median_list_price      0\n",
       "median_sale_price      0\n",
       "months_of_supply       0\n",
       "rural_urban_code       0\n",
       "urban_type             0\n",
       "pop_estimate           0\n",
       "natural_chg            0\n",
       "net_mig                0\n",
       "interest_rate          0\n",
       "dtype: int64"
      ]
     },
     "execution_count": 28,
     "metadata": {},
     "output_type": "execute_result"
    }
   ],
   "source": [
    "rent_enriched.isnull().sum()"
   ]
  },
  {
   "cell_type": "code",
   "execution_count": 29,
   "id": "4cb28b68-b6f0-4860-956e-9fd3b1f48081",
   "metadata": {},
   "outputs": [],
   "source": [
    "rent_enriched = rent_enriched.dropna(subset=['median_list_price', 'median_ppsf'])\n",
    "rent_enriched['avg_sale_to_list'] = rent_enriched['avg_sale_to_list'].fillna(1)\n",
    "rent_enriched['new_listings'] = rent_enriched['new_listings'].fillna(0)\n",
    "rent_enriched['pending_sales'] = rent_enriched['pending_sales'].fillna(0)\n",
    "rent_enriched['months_of_supply'] = rent_enriched['months_of_supply'].fillna(0)"
   ]
  },
  {
   "cell_type": "code",
   "execution_count": 30,
   "id": "1e5a23fb-c6aa-463d-95cd-7a5cbd75d67f",
   "metadata": {},
   "outputs": [],
   "source": [
    "rent_current = rent_enriched [rent_enriched [\"month\"] == \"2023-12-01\"]"
   ]
  },
  {
   "cell_type": "markdown",
   "id": "ce464df5-860b-4021-96e1-bea2dc2f232a",
   "metadata": {},
   "source": [
    "# Exploratory Data Analysis"
   ]
  },
  {
   "cell_type": "code",
   "execution_count": 35,
   "id": "9c74eb18-a3d2-4b56-b8f5-fc8e44d7e79e",
   "metadata": {},
   "outputs": [
    {
     "data": {
      "text/plain": [
       "Text(0.5, 0, 'Month')"
      ]
     },
     "execution_count": 35,
     "metadata": {},
     "output_type": "execute_result"
    },
    {
     "data": {
      "image/png": "[encoded data removed]",
      "text/plain": [
       "<Figure size 640x480 with 1 Axes>"
      ]
     },
     "metadata": {},
     "output_type": "display_data"
    }
   ],
   "source": [
    "ax = sns.lineplot (data = rent_enriched.groupby([\"state\", \"month\"])[\"median_rent\"].mean ().reset_index(), x = \"month\", y = \"median_rent\")\n",
    "ax.tick_params(axis='x', rotation=45)\n",
    "plt.title (\"Median Rent Trend\")\n",
    "plt.ylabel('Median Rent')\n",
    "plt.xlabel('Month')"
   ]
  },
  {
   "cell_type": "code",
   "execution_count": 36,
   "id": "0c27d1f1-ad60-4a0c-882c-487f1127d1ff",
   "metadata": {},
   "outputs": [
    {
     "data": {
      "text/plain": [
       "Text(0.5, 0, 'Month')"
      ]
     },
     "execution_count": 36,
     "metadata": {},
     "output_type": "execute_result"
    },
    {
     "data": {
      "image/png": "[encoded data removed]",
      "text/plain": [
       "<Figure size 640x480 with 1 Axes>"
      ]
     },
     "metadata": {},
     "output_type": "display_data"
    }
   ],
   "source": [
    "ax = sns.lineplot (data = rent_enriched.groupby([\"state\", \"month\"])[\"median_list_price\"].mean ().reset_index(), x = \"month\", y = \"median_list_price\")\n",
    "ax.tick_params(axis='x', rotation=45)\n",
    "plt.title (\"Median Home Price Trend\")\n",
    "plt.ylabel('Median Price')\n",
    "plt.xlabel('Month')"
   ]
  },
  {
   "cell_type": "code",
   "execution_count": 55,
   "id": "38de3086-9a13-4b9a-a6ee-a6ea52b7b5f1",
   "metadata": {},
   "outputs": [
    {
     "data": {
      "text/plain": [
       "<Axes: xlabel='pop_estimate', ylabel='median_rent'>"
      ]
     },
     "execution_count": 55,
     "metadata": {},
     "output_type": "execute_result"
    },
    {
     "data": {
      "image/png": "[encoded data removed]",
      "text/plain": [
       "<Figure size 640x480 with 1 Axes>"
      ]
     },
     "metadata": {},
     "output_type": "display_data"
    }
   ],
   "source": [
    "sns.scatterplot (data = rent_current, x = \"pop_estimate\", y = \"median_rent\")"
   ]
  },
  {
   "cell_type": "code",
   "execution_count": 57,
   "id": "7979707c-32ed-4dbe-a728-16a75424ce87",
   "metadata": {},
   "outputs": [
    {
     "data": {
      "text/plain": [
       "<Axes: xlabel='median_ppsf', ylabel='median_rent'>"
      ]
     },
     "execution_count": 57,
     "metadata": {},
     "output_type": "execute_result"
    },
    {
     "data": {
      "image/png": "[encoded data removed]",
      "text/plain": [
       "<Figure size 640x480 with 1 Axes>"
      ]
     },
     "metadata": {},
     "output_type": "display_data"
    }
   ],
   "source": [
    "sns.scatterplot (data = rent_current, x = \"median_ppsf\", y = \"median_rent\")"
   ]
  },
  {
   "cell_type": "code",
   "execution_count": 39,
   "id": "ce3c7e9f-008d-4dce-8579-bcceb99cc598",
   "metadata": {},
   "outputs": [
    {
     "data": {
      "text/plain": [
       "<Axes: xlabel='median_list_price', ylabel='median_rent'>"
      ]
     },
     "execution_count": 39,
     "metadata": {},
     "output_type": "execute_result"
    },
    {
     "data": {
      "image/png": "[encoded data removed]",
      "text/plain": [
       "<Figure size 640x480 with 1 Axes>"
      ]
     },
     "metadata": {},
     "output_type": "display_data"
    }
   ],
   "source": [
    "sns.scatterplot (data = rent_current, x = \"median_list_price\", y = \"median_rent\")"
   ]
  },
  {
   "cell_type": "code",
   "execution_count": 58,
   "id": "23c8d48b-d383-466b-ae3d-9e2599788c44",
   "metadata": {},
   "outputs": [
    {
     "data": {
      "text/plain": [
       "<Axes: >"
      ]
     },
     "execution_count": 58,
     "metadata": {},
     "output_type": "execute_result"
    },
    {
     "data": {
      "image/png": "[encoded data removed]",
      "text/plain": [
       "<Figure size 1500x1000 with 2 Axes>"
      ]
     },
     "metadata": {},
     "output_type": "display_data"
    }
   ],
   "source": [
    "corr = rent_enriched.select_dtypes('number').corr()\n",
    "\n",
    "# plot the heatmap\n",
    "plt.subplots(figsize=(15, 10))\n",
    "sns.heatmap(corr, annot=True, cbar=True, linewidths=.5)"
   ]
  },
  {
   "cell_type": "markdown",
   "id": "0e4721c7-3285-46bd-8cff-043ed9df75bd",
   "metadata": {},
   "source": [
    "# Model Selection and Training"
   ]
  },
  {
   "cell_type": "code",
   "execution_count": 31,
   "id": "c95c68b6-2a60-4caa-89fb-3641ceae3387",
   "metadata": {},
   "outputs": [],
   "source": [
    "# Split the data into training and testing sets\n",
    "X = rent_enriched.drop (columns = [\"month\", \"county\", \"metro\", \"median_rent\"])\n",
    "y = rent_enriched['median_rent']\n",
    "\n",
    "X_train, X_test, y_train, y_test = train_test_split(X, y, test_size=0.2, random_state=42)"
   ]
  },
  {
   "cell_type": "code",
   "execution_count": 32,
   "id": "5fc8f0c6-8578-4798-8301-0982d7025e52",
   "metadata": {},
   "outputs": [],
   "source": [
    "scaler = make_column_transformer((OneHotEncoder(),['state']),remainder= StandardScaler ())"
   ]
  },
  {
   "cell_type": "raw",
   "id": "0f0fb06b-ca94-4ab5-a4c9-29f226d99c4b",
   "metadata": {},
   "source": [
    "topk = 5\n",
    "sc = MinMaxScaler()\n",
    "X_sc = sc.fit_transform(X)\n",
    "\n",
    "# select from the scaled data\n",
    "skb = SelectKBest(chi2, k=topk)\n",
    "X_sc_selected = skb.fit_transform(X_sc, y)\n",
    "\n",
    "# Summarize scores\n",
    "np.set_printoptions(precision=3)\n",
    "print(X_sc_selected.scores_)"
   ]
  },
  {
   "cell_type": "code",
   "execution_count": 33,
   "id": "028b2df0-9452-46dd-9039-2823ee77854d",
   "metadata": {},
   "outputs": [
    {
     "name": "stdout",
     "output_type": "stream",
     "text": [
      "-6.645972533414479e-06\n"
     ]
    }
   ],
   "source": [
    "#DummyClassifier\n",
    "dc = DummyRegressor ()\n",
    "dc.fit (X_train, y_train)\n",
    "dc_score = dc.score (X_test, y_test)\n",
    "print (dc_score)"
   ]
  },
  {
   "cell_type": "markdown",
   "id": "9bdadc3c-0a71-44bd-9453-b52468b20f13",
   "metadata": {},
   "source": [
    "## Linear Regression"
   ]
  },
  {
   "cell_type": "code",
   "execution_count": 36,
   "id": "e80cef31-e69d-4b2b-8159-37612616c57c",
   "metadata": {},
   "outputs": [
    {
     "data": {
      "text/html": [
       "<style>#sk-container-id-2 {color: black;background-color: white;}#sk-container-id-2 pre{padding: 0;}#sk-container-id-2 div.sk-toggleable {background-color: white;}#sk-container-id-2 label.sk-toggleable__label {cursor: pointer;display: block;width: 100%;margin-bottom: 0;padding: 0.3em;box-sizing: border-box;text-align: center;}#sk-container-id-2 label.sk-toggleable__label-arrow:before {content: \"▸\";float: left;margin-right: 0.25em;color: #696969;}#sk-container-id-2 label.sk-toggleable__label-arrow:hover:before {color: black;}#sk-container-id-2 div.sk-estimator:hover label.sk-toggleable__label-arrow:before {color: black;}#sk-container-id-2 div.sk-toggleable__content {max-height: 0;max-width: 0;overflow: hidden;text-align: left;background-color: #f0f8ff;}#sk-container-id-2 div.sk-toggleable__content pre {margin: 0.2em;color: black;border-radius: 0.25em;background-color: #f0f8ff;}#sk-container-id-2 input.sk-toggleable__control:checked~div.sk-toggleable__content {max-height: 200px;max-width: 100%;overflow: auto;}#sk-container-id-2 input.sk-toggleable__control:checked~label.sk-toggleable__label-arrow:before {content: \"▾\";}#sk-container-id-2 div.sk-estimator input.sk-toggleable__control:checked~label.sk-toggleable__label {background-color: #d4ebff;}#sk-container-id-2 div.sk-label input.sk-toggleable__control:checked~label.sk-toggleable__label {background-color: #d4ebff;}#sk-container-id-2 input.sk-hidden--visually {border: 0;clip: rect(1px 1px 1px 1px);clip: rect(1px, 1px, 1px, 1px);height: 1px;margin: -1px;overflow: hidden;padding: 0;position: absolute;width: 1px;}#sk-container-id-2 div.sk-estimator {font-family: monospace;background-color: #f0f8ff;border: 1px dotted black;border-radius: 0.25em;box-sizing: border-box;margin-bottom: 0.5em;}#sk-container-id-2 div.sk-estimator:hover {background-color: #d4ebff;}#sk-container-id-2 div.sk-parallel-item::after {content: \"\";width: 100%;border-bottom: 1px solid gray;flex-grow: 1;}#sk-container-id-2 div.sk-label:hover label.sk-toggleable__label {background-color: #d4ebff;}#sk-container-id-2 div.sk-serial::before {content: \"\";position: absolute;border-left: 1px solid gray;box-sizing: border-box;top: 0;bottom: 0;left: 50%;z-index: 0;}#sk-container-id-2 div.sk-serial {display: flex;flex-direction: column;align-items: center;background-color: white;padding-right: 0.2em;padding-left: 0.2em;position: relative;}#sk-container-id-2 div.sk-item {position: relative;z-index: 1;}#sk-container-id-2 div.sk-parallel {display: flex;align-items: stretch;justify-content: center;background-color: white;position: relative;}#sk-container-id-2 div.sk-item::before, #sk-container-id-2 div.sk-parallel-item::before {content: \"\";position: absolute;border-left: 1px solid gray;box-sizing: border-box;top: 0;bottom: 0;left: 50%;z-index: -1;}#sk-container-id-2 div.sk-parallel-item {display: flex;flex-direction: column;z-index: 1;position: relative;background-color: white;}#sk-container-id-2 div.sk-parallel-item:first-child::after {align-self: flex-end;width: 50%;}#sk-container-id-2 div.sk-parallel-item:last-child::after {align-self: flex-start;width: 50%;}#sk-container-id-2 div.sk-parallel-item:only-child::after {width: 0;}#sk-container-id-2 div.sk-dashed-wrapped {border: 1px dashed gray;margin: 0 0.4em 0.5em 0.4em;box-sizing: border-box;padding-bottom: 0.4em;background-color: white;}#sk-container-id-2 div.sk-label label {font-family: monospace;font-weight: bold;display: inline-block;line-height: 1.2em;}#sk-container-id-2 div.sk-label-container {text-align: center;}#sk-container-id-2 div.sk-container {/* jupyter's `normalize.less` sets `[hidden] { display: none; }` but bootstrap.min.css set `[hidden] { display: none !important; }` so we also need the `!important` here to be able to override the default hidden behavior on the sphinx rendered scikit-learn.org. See: https://github.com/scikit-learn/scikit-learn/issues/21755 */display: inline-block !important;position: relative;}#sk-container-id-2 div.sk-text-repr-fallback {display: none;}</style><div id=\"sk-container-id-2\" class=\"sk-top-container\"><div class=\"sk-text-repr-fallback\"><pre>Pipeline(steps=[(&#x27;scaler&#x27;,\n",
       "                 ColumnTransformer(remainder=StandardScaler(),\n",
       "                                   transformers=[(&#x27;onehotencoder&#x27;,\n",
       "                                                  OneHotEncoder(),\n",
       "                                                  [&#x27;state&#x27;])])),\n",
       "                (&#x27;lr&#x27;, LinearRegression())])</pre><b>In a Jupyter environment, please rerun this cell to show the HTML representation or trust the notebook. <br />On GitHub, the HTML representation is unable to render, please try loading this page with nbviewer.org.</b></div><div class=\"sk-container\" hidden><div class=\"sk-item sk-dashed-wrapped\"><div class=\"sk-label-container\"><div class=\"sk-label sk-toggleable\"><input class=\"sk-toggleable__control sk-hidden--visually\" id=\"sk-estimator-id-8\" type=\"checkbox\" ><label for=\"sk-estimator-id-8\" class=\"sk-toggleable__label sk-toggleable__label-arrow\">Pipeline</label><div class=\"sk-toggleable__content\"><pre>Pipeline(steps=[(&#x27;scaler&#x27;,\n",
       "                 ColumnTransformer(remainder=StandardScaler(),\n",
       "                                   transformers=[(&#x27;onehotencoder&#x27;,\n",
       "                                                  OneHotEncoder(),\n",
       "                                                  [&#x27;state&#x27;])])),\n",
       "                (&#x27;lr&#x27;, LinearRegression())])</pre></div></div></div><div class=\"sk-serial\"><div class=\"sk-item sk-dashed-wrapped\"><div class=\"sk-label-container\"><div class=\"sk-label sk-toggleable\"><input class=\"sk-toggleable__control sk-hidden--visually\" id=\"sk-estimator-id-9\" type=\"checkbox\" ><label for=\"sk-estimator-id-9\" class=\"sk-toggleable__label sk-toggleable__label-arrow\">scaler: ColumnTransformer</label><div class=\"sk-toggleable__content\"><pre>ColumnTransformer(remainder=StandardScaler(),\n",
       "                  transformers=[(&#x27;onehotencoder&#x27;, OneHotEncoder(), [&#x27;state&#x27;])])</pre></div></div></div><div class=\"sk-parallel\"><div class=\"sk-parallel-item\"><div class=\"sk-item\"><div class=\"sk-label-container\"><div class=\"sk-label sk-toggleable\"><input class=\"sk-toggleable__control sk-hidden--visually\" id=\"sk-estimator-id-10\" type=\"checkbox\" ><label for=\"sk-estimator-id-10\" class=\"sk-toggleable__label sk-toggleable__label-arrow\">onehotencoder</label><div class=\"sk-toggleable__content\"><pre>[&#x27;state&#x27;]</pre></div></div></div><div class=\"sk-serial\"><div class=\"sk-item\"><div class=\"sk-estimator sk-toggleable\"><input class=\"sk-toggleable__control sk-hidden--visually\" id=\"sk-estimator-id-11\" type=\"checkbox\" ><label for=\"sk-estimator-id-11\" class=\"sk-toggleable__label sk-toggleable__label-arrow\">OneHotEncoder</label><div class=\"sk-toggleable__content\"><pre>OneHotEncoder()</pre></div></div></div></div></div></div><div class=\"sk-parallel-item\"><div class=\"sk-item\"><div class=\"sk-label-container\"><div class=\"sk-label sk-toggleable\"><input class=\"sk-toggleable__control sk-hidden--visually\" id=\"sk-estimator-id-12\" type=\"checkbox\" ><label for=\"sk-estimator-id-12\" class=\"sk-toggleable__label sk-toggleable__label-arrow\">remainder</label><div class=\"sk-toggleable__content\"><pre>[&#x27;avg_sale_to_list&#x27;, &#x27;median_dom&#x27;, &#x27;median_ppsf&#x27;, &#x27;new_listings&#x27;, &#x27;pending_sales&#x27;, &#x27;median_list_price&#x27;, &#x27;median_sale_price&#x27;, &#x27;months_of_supply&#x27;, &#x27;rural_urban_code&#x27;, &#x27;urban_type&#x27;, &#x27;pop_estimate&#x27;, &#x27;natural_chg&#x27;, &#x27;net_mig&#x27;, &#x27;interest_rate&#x27;]</pre></div></div></div><div class=\"sk-serial\"><div class=\"sk-item\"><div class=\"sk-estimator sk-toggleable\"><input class=\"sk-toggleable__control sk-hidden--visually\" id=\"sk-estimator-id-13\" type=\"checkbox\" ><label for=\"sk-estimator-id-13\" class=\"sk-toggleable__label sk-toggleable__label-arrow\">StandardScaler</label><div class=\"sk-toggleable__content\"><pre>StandardScaler()</pre></div></div></div></div></div></div></div></div><div class=\"sk-item\"><div class=\"sk-estimator sk-toggleable\"><input class=\"sk-toggleable__control sk-hidden--visually\" id=\"sk-estimator-id-14\" type=\"checkbox\" ><label for=\"sk-estimator-id-14\" class=\"sk-toggleable__label sk-toggleable__label-arrow\">LinearRegression</label><div class=\"sk-toggleable__content\"><pre>LinearRegression()</pre></div></div></div></div></div></div></div>"
      ],
      "text/plain": [
       "Pipeline(steps=[('scaler',\n",
       "                 ColumnTransformer(remainder=StandardScaler(),\n",
       "                                   transformers=[('onehotencoder',\n",
       "                                                  OneHotEncoder(),\n",
       "                                                  ['state'])])),\n",
       "                ('lr', LinearRegression())])"
      ]
     },
     "execution_count": 36,
     "metadata": {},
     "output_type": "execute_result"
    }
   ],
   "source": [
    "lr_pipe = Pipeline([\n",
    "    ('scaler', scaler),\n",
    "    ('lr', LinearRegression())\n",
    "])\n",
    "lr_pipe.fit (X_train, y_train)"
   ]
  },
  {
   "cell_type": "code",
   "execution_count": 37,
   "id": "239373e0-25c1-4d8e-b341-7325a3f3fb74",
   "metadata": {},
   "outputs": [
    {
     "name": "stdout",
     "output_type": "stream",
     "text": [
      "0.8953025051142026\n"
     ]
    }
   ],
   "source": [
    "lr_test_score = lr_pipe.score (X_test, y_test)\n",
    "print (lr_test_score)"
   ]
  },
  {
   "cell_type": "markdown",
   "id": "714dde5e-73de-4a52-a733-cb2340398751",
   "metadata": {},
   "source": [
    "## KNN"
   ]
  },
  {
   "cell_type": "code",
   "execution_count": 38,
   "id": "f45fa780-905c-4b1d-9b12-90543ae247bf",
   "metadata": {},
   "outputs": [],
   "source": [
    "knn_params = {\n",
    "    'knn__n_neighbors':[3,5,10,20],\n",
    "    'knn__weights':['uniform', 'distance'],\n",
    "    'knn__algorithm':['auto', 'ball_tree', 'kd_tree', 'brute'],\n",
    "    'knn__leaf_size':[5,10,20,30,40,50,100],\n",
    "    'knn__p':[1,2]\n",
    "}\n",
    "\n",
    "knn_pipe = Pipeline([\n",
    "    ('scaler', scaler),\n",
    "    ('knn', KNeighborsRegressor())\n",
    "])\n",
    "\n",
    "#knn_gs = GridSearchCV(knn_pipe, param_grid = knn_params, cv=5)\n",
    "#knn_gs.fit(X_train, y_train)\n",
    "#knn_best = knn_gs.best_estimator_\n",
    "#print(\"Best Params {}\".format(knn_gs.best_params_))\n",
    "#Best Params {'knn__algorithm': 'auto', 'knn__leaf_size': 5, 'knn__n_neighbors': 5, 'knn__p': 1, 'knn__weights': 'distance'}\n",
    "\n",
    "knn_best = Pipeline([\n",
    "    ('scaler', scaler),\n",
    "    ('knn', KNeighborsRegressor(leaf_size = 5, p = 1, weights = 'distance', n_neighbors = 3))\n",
    "]).fit (X_train, y_train)"
   ]
  },
  {
   "cell_type": "code",
   "execution_count": 39,
   "id": "c86f3dc7-507d-4b28-af89-0153da8ccbe8",
   "metadata": {},
   "outputs": [
    {
     "name": "stdout",
     "output_type": "stream",
     "text": [
      "1.0\n",
      "0.9905950816717721\n"
     ]
    }
   ],
   "source": [
    "knn_train_score = knn_best.score (X_train, y_train)\n",
    "print (knn_train_score)\n",
    "\n",
    "knn_test_score = knn_best.score (X_test, y_test)\n",
    "print (knn_test_score)"
   ]
  },
  {
   "cell_type": "markdown",
   "id": "fe1e7a80-0f50-4284-b96d-32cb3701b25b",
   "metadata": {},
   "source": [
    "## Decision Trees"
   ]
  },
  {
   "cell_type": "code",
   "execution_count": 40,
   "id": "6f7528dc-ed74-4a0d-91b4-10448512e85c",
   "metadata": {},
   "outputs": [],
   "source": [
    "dt_params = { \n",
    "    'dt__criterion':['friedman_mse', 'poisson', 'absolute_error', 'squared_error'],\n",
    "    'dt__max_depth': np.arange(3, 15)\n",
    "}\n",
    "\n",
    "dt_pipe = Pipeline([\n",
    "    ('scaler', scaler),\n",
    "    ('dt', DecisionTreeRegressor())\n",
    "])\n",
    "\n",
    "#dt_gs = GridSearchCV(dt_pipe, param_grid = dt_params, cv = 5)\n",
    "#dt_gs.fit(X_train, y_train)\n",
    "#print(\"Best Params {}\".format(dt_gs.best_params_))\n",
    "#dt_best = dt_gs.best_estimator_\n",
    "#Best Params {'dt__criterion': 'poisson', 'dt__max_depth': 14}\n",
    "\n",
    "dt_best = Pipeline([\n",
    "    ('scaler', scaler),\n",
    "    ('dt', DecisionTreeRegressor(max_depth = 14, criterion = 'poisson' ))\n",
    "]).fit (X_train, y_train)\n"
   ]
  },
  {
   "cell_type": "code",
   "execution_count": 41,
   "id": "39262e73-7fbd-4dff-a3b3-95bd80440028",
   "metadata": {},
   "outputs": [
    {
     "name": "stdout",
     "output_type": "stream",
     "text": [
      "0.9948875413701106\n",
      "0.9569040786520728\n"
     ]
    }
   ],
   "source": [
    "dt_train_score = dt_best.score (X_train, y_train)\n",
    "print (dt_train_score)\n",
    "\n",
    "dt_test_score = dt_best.score (X_test, y_test)\n",
    "print (dt_test_score)"
   ]
  },
  {
   "cell_type": "markdown",
   "id": "fc12cf52-a2f5-40df-962d-17fb2c060d10",
   "metadata": {},
   "source": [
    "## SVM"
   ]
  },
  {
   "cell_type": "code",
   "execution_count": 42,
   "id": "1d038163-73fe-48f8-943c-3a17e66bbc9b",
   "metadata": {},
   "outputs": [],
   "source": [
    "svm_pipe = Pipeline([\n",
    "    ('scaler', scaler),\n",
    "    ('svm', SVR())\n",
    "])\n",
    "\n",
    "svm_params = {\n",
    "    'svm__kernel' : ('linear', 'poly', 'rbf', 'sigmoid'),\n",
    "    'svm__C' : [1,5,10],\n",
    "    'svm__degree' : [3,8],\n",
    "    'svm__coef0' : [0.01,10,0.5],\n",
    "    'svm__gamma' : ('auto','scale')},\n",
    "\n",
    "#svm_gs = GridSearchCV(svm_pipe, param_grid = svm_params, cv = 5)\n",
    "#svm_gs.fit(X_train, y_train)\n",
    "#print(\"Best Params {}\".format(svm_gs.best_params_))\n",
    "\n",
    "svm_best = Pipeline([\n",
    "    ('scaler', scaler),\n",
    "    ('dt', SVR())\n",
    "]).fit (X_train, y_train)"
   ]
  },
  {
   "cell_type": "code",
   "execution_count": 43,
   "id": "8bac54a3-bc75-4e87-9af8-d9c72fa41813",
   "metadata": {},
   "outputs": [
    {
     "name": "stdout",
     "output_type": "stream",
     "text": [
      "0.39109048164666227\n",
      "0.4076088301262799\n"
     ]
    }
   ],
   "source": [
    "svm_train_score = svm_best.score (X_train, y_train)\n",
    "print (svm_train_score)\n",
    "\n",
    "svm_test_score = svm_best.score (X_test, y_test)\n",
    "print (svm_test_score)"
   ]
  },
  {
   "cell_type": "markdown",
   "id": "72b5cb32-815f-4c25-af83-402032b2b0ee",
   "metadata": {},
   "source": [
    "## Random Forest"
   ]
  },
  {
   "cell_type": "code",
   "execution_count": 44,
   "id": "b3533ce4-7d33-4887-b8a0-a47f5f1f96e6",
   "metadata": {},
   "outputs": [
    {
     "data": {
      "text/html": [
       "<style>#sk-container-id-3 {color: black;background-color: white;}#sk-container-id-3 pre{padding: 0;}#sk-container-id-3 div.sk-toggleable {background-color: white;}#sk-container-id-3 label.sk-toggleable__label {cursor: pointer;display: block;width: 100%;margin-bottom: 0;padding: 0.3em;box-sizing: border-box;text-align: center;}#sk-container-id-3 label.sk-toggleable__label-arrow:before {content: \"▸\";float: left;margin-right: 0.25em;color: #696969;}#sk-container-id-3 label.sk-toggleable__label-arrow:hover:before {color: black;}#sk-container-id-3 div.sk-estimator:hover label.sk-toggleable__label-arrow:before {color: black;}#sk-container-id-3 div.sk-toggleable__content {max-height: 0;max-width: 0;overflow: hidden;text-align: left;background-color: #f0f8ff;}#sk-container-id-3 div.sk-toggleable__content pre {margin: 0.2em;color: black;border-radius: 0.25em;background-color: #f0f8ff;}#sk-container-id-3 input.sk-toggleable__control:checked~div.sk-toggleable__content {max-height: 200px;max-width: 100%;overflow: auto;}#sk-container-id-3 input.sk-toggleable__control:checked~label.sk-toggleable__label-arrow:before {content: \"▾\";}#sk-container-id-3 div.sk-estimator input.sk-toggleable__control:checked~label.sk-toggleable__label {background-color: #d4ebff;}#sk-container-id-3 div.sk-label input.sk-toggleable__control:checked~label.sk-toggleable__label {background-color: #d4ebff;}#sk-container-id-3 input.sk-hidden--visually {border: 0;clip: rect(1px 1px 1px 1px);clip: rect(1px, 1px, 1px, 1px);height: 1px;margin: -1px;overflow: hidden;padding: 0;position: absolute;width: 1px;}#sk-container-id-3 div.sk-estimator {font-family: monospace;background-color: #f0f8ff;border: 1px dotted black;border-radius: 0.25em;box-sizing: border-box;margin-bottom: 0.5em;}#sk-container-id-3 div.sk-estimator:hover {background-color: #d4ebff;}#sk-container-id-3 div.sk-parallel-item::after {content: \"\";width: 100%;border-bottom: 1px solid gray;flex-grow: 1;}#sk-container-id-3 div.sk-label:hover label.sk-toggleable__label {background-color: #d4ebff;}#sk-container-id-3 div.sk-serial::before {content: \"\";position: absolute;border-left: 1px solid gray;box-sizing: border-box;top: 0;bottom: 0;left: 50%;z-index: 0;}#sk-container-id-3 div.sk-serial {display: flex;flex-direction: column;align-items: center;background-color: white;padding-right: 0.2em;padding-left: 0.2em;position: relative;}#sk-container-id-3 div.sk-item {position: relative;z-index: 1;}#sk-container-id-3 div.sk-parallel {display: flex;align-items: stretch;justify-content: center;background-color: white;position: relative;}#sk-container-id-3 div.sk-item::before, #sk-container-id-3 div.sk-parallel-item::before {content: \"\";position: absolute;border-left: 1px solid gray;box-sizing: border-box;top: 0;bottom: 0;left: 50%;z-index: -1;}#sk-container-id-3 div.sk-parallel-item {display: flex;flex-direction: column;z-index: 1;position: relative;background-color: white;}#sk-container-id-3 div.sk-parallel-item:first-child::after {align-self: flex-end;width: 50%;}#sk-container-id-3 div.sk-parallel-item:last-child::after {align-self: flex-start;width: 50%;}#sk-container-id-3 div.sk-parallel-item:only-child::after {width: 0;}#sk-container-id-3 div.sk-dashed-wrapped {border: 1px dashed gray;margin: 0 0.4em 0.5em 0.4em;box-sizing: border-box;padding-bottom: 0.4em;background-color: white;}#sk-container-id-3 div.sk-label label {font-family: monospace;font-weight: bold;display: inline-block;line-height: 1.2em;}#sk-container-id-3 div.sk-label-container {text-align: center;}#sk-container-id-3 div.sk-container {/* jupyter's `normalize.less` sets `[hidden] { display: none; }` but bootstrap.min.css set `[hidden] { display: none !important; }` so we also need the `!important` here to be able to override the default hidden behavior on the sphinx rendered scikit-learn.org. See: https://github.com/scikit-learn/scikit-learn/issues/21755 */display: inline-block !important;position: relative;}#sk-container-id-3 div.sk-text-repr-fallback {display: none;}</style><div id=\"sk-container-id-3\" class=\"sk-top-container\"><div class=\"sk-text-repr-fallback\"><pre>Pipeline(steps=[(&#x27;scaler&#x27;,\n",
       "                 ColumnTransformer(remainder=StandardScaler(),\n",
       "                                   transformers=[(&#x27;onehotencoder&#x27;,\n",
       "                                                  OneHotEncoder(),\n",
       "                                                  [&#x27;state&#x27;])])),\n",
       "                (&#x27;rf&#x27;, RandomForestRegressor())])</pre><b>In a Jupyter environment, please rerun this cell to show the HTML representation or trust the notebook. <br />On GitHub, the HTML representation is unable to render, please try loading this page with nbviewer.org.</b></div><div class=\"sk-container\" hidden><div class=\"sk-item sk-dashed-wrapped\"><div class=\"sk-label-container\"><div class=\"sk-label sk-toggleable\"><input class=\"sk-toggleable__control sk-hidden--visually\" id=\"sk-estimator-id-15\" type=\"checkbox\" ><label for=\"sk-estimator-id-15\" class=\"sk-toggleable__label sk-toggleable__label-arrow\">Pipeline</label><div class=\"sk-toggleable__content\"><pre>Pipeline(steps=[(&#x27;scaler&#x27;,\n",
       "                 ColumnTransformer(remainder=StandardScaler(),\n",
       "                                   transformers=[(&#x27;onehotencoder&#x27;,\n",
       "                                                  OneHotEncoder(),\n",
       "                                                  [&#x27;state&#x27;])])),\n",
       "                (&#x27;rf&#x27;, RandomForestRegressor())])</pre></div></div></div><div class=\"sk-serial\"><div class=\"sk-item sk-dashed-wrapped\"><div class=\"sk-label-container\"><div class=\"sk-label sk-toggleable\"><input class=\"sk-toggleable__control sk-hidden--visually\" id=\"sk-estimator-id-16\" type=\"checkbox\" ><label for=\"sk-estimator-id-16\" class=\"sk-toggleable__label sk-toggleable__label-arrow\">scaler: ColumnTransformer</label><div class=\"sk-toggleable__content\"><pre>ColumnTransformer(remainder=StandardScaler(),\n",
       "                  transformers=[(&#x27;onehotencoder&#x27;, OneHotEncoder(), [&#x27;state&#x27;])])</pre></div></div></div><div class=\"sk-parallel\"><div class=\"sk-parallel-item\"><div class=\"sk-item\"><div class=\"sk-label-container\"><div class=\"sk-label sk-toggleable\"><input class=\"sk-toggleable__control sk-hidden--visually\" id=\"sk-estimator-id-17\" type=\"checkbox\" ><label for=\"sk-estimator-id-17\" class=\"sk-toggleable__label sk-toggleable__label-arrow\">onehotencoder</label><div class=\"sk-toggleable__content\"><pre>[&#x27;state&#x27;]</pre></div></div></div><div class=\"sk-serial\"><div class=\"sk-item\"><div class=\"sk-estimator sk-toggleable\"><input class=\"sk-toggleable__control sk-hidden--visually\" id=\"sk-estimator-id-18\" type=\"checkbox\" ><label for=\"sk-estimator-id-18\" class=\"sk-toggleable__label sk-toggleable__label-arrow\">OneHotEncoder</label><div class=\"sk-toggleable__content\"><pre>OneHotEncoder()</pre></div></div></div></div></div></div><div class=\"sk-parallel-item\"><div class=\"sk-item\"><div class=\"sk-label-container\"><div class=\"sk-label sk-toggleable\"><input class=\"sk-toggleable__control sk-hidden--visually\" id=\"sk-estimator-id-19\" type=\"checkbox\" ><label for=\"sk-estimator-id-19\" class=\"sk-toggleable__label sk-toggleable__label-arrow\">remainder</label><div class=\"sk-toggleable__content\"><pre>[&#x27;avg_sale_to_list&#x27;, &#x27;median_dom&#x27;, &#x27;median_ppsf&#x27;, &#x27;new_listings&#x27;, &#x27;pending_sales&#x27;, &#x27;median_list_price&#x27;, &#x27;median_sale_price&#x27;, &#x27;months_of_supply&#x27;, &#x27;rural_urban_code&#x27;, &#x27;urban_type&#x27;, &#x27;pop_estimate&#x27;, &#x27;natural_chg&#x27;, &#x27;net_mig&#x27;, &#x27;interest_rate&#x27;]</pre></div></div></div><div class=\"sk-serial\"><div class=\"sk-item\"><div class=\"sk-estimator sk-toggleable\"><input class=\"sk-toggleable__control sk-hidden--visually\" id=\"sk-estimator-id-20\" type=\"checkbox\" ><label for=\"sk-estimator-id-20\" class=\"sk-toggleable__label sk-toggleable__label-arrow\">StandardScaler</label><div class=\"sk-toggleable__content\"><pre>StandardScaler()</pre></div></div></div></div></div></div></div></div><div class=\"sk-item\"><div class=\"sk-estimator sk-toggleable\"><input class=\"sk-toggleable__control sk-hidden--visually\" id=\"sk-estimator-id-21\" type=\"checkbox\" ><label for=\"sk-estimator-id-21\" class=\"sk-toggleable__label sk-toggleable__label-arrow\">RandomForestRegressor</label><div class=\"sk-toggleable__content\"><pre>RandomForestRegressor()</pre></div></div></div></div></div></div></div>"
      ],
      "text/plain": [
       "Pipeline(steps=[('scaler',\n",
       "                 ColumnTransformer(remainder=StandardScaler(),\n",
       "                                   transformers=[('onehotencoder',\n",
       "                                                  OneHotEncoder(),\n",
       "                                                  ['state'])])),\n",
       "                ('rf', RandomForestRegressor())])"
      ]
     },
     "execution_count": 44,
     "metadata": {},
     "output_type": "execute_result"
    }
   ],
   "source": [
    "rf_pipe = Pipeline([\n",
    "    ('scaler', scaler),\n",
    "    ('rf', RandomForestRegressor())\n",
    "])\n",
    "\n",
    "rf_params = {\n",
    "    'rf__n_estimators': [100, 200],\n",
    "    'rf__min_samples_split': [8, 10],\n",
    "    'rf__min_samples_leaf': [3, 4, 5],\n",
    "    'rf__max_depth': [80, 90]\n",
    "}\n",
    "\n",
    "\n",
    "# try out every combination of the above values\n",
    "#rf_gs = GridSearchCV (rf_pipe, rf_params, cv = 5)\n",
    "#rf_gs.fit (X_train, y_train)\n",
    "\n",
    "#print(\"Best Params {}\".format(rf_gs.best_params_))\n",
    "\n",
    "rf_pipe.fit (X_train, y_train)\n"
   ]
  },
  {
   "cell_type": "code",
   "execution_count": 45,
   "id": "35b2e86f-c4e5-43f9-b9d9-fd3a5e6ad07b",
   "metadata": {},
   "outputs": [],
   "source": [
    "rf_test_score = rf_pipe.score (X_test, y_test)"
   ]
  },
  {
   "cell_type": "markdown",
   "id": "6139be3e-773f-4171-b26b-fb31427ebfb7",
   "metadata": {},
   "source": [
    "## ElasticNet"
   ]
  },
  {
   "cell_type": "code",
   "execution_count": 46,
   "id": "93d5f813-465c-43bf-983e-cdb0298cb1ca",
   "metadata": {},
   "outputs": [
    {
     "name": "stdout",
     "output_type": "stream",
     "text": [
      "Best Params {'enet__alpha': 0.1, 'enet__l1_ratio': 0.4, 'enet__tol': 0.0001}\n"
     ]
    }
   ],
   "source": [
    "enet_pipe = Pipeline([\n",
    "    ('scaler', scaler),\n",
    "    ('enet', ElasticNet())\n",
    "])\n",
    "\n",
    "enet_params = {\n",
    "    'enet__alpha'     : [0.1,1,10,0.01],\n",
    "    'enet__l1_ratio'  :  np.arange(0.40,1.00,0.10),\n",
    "    'enet__tol'       : [0.0001,0.001]\n",
    "}\n",
    "\n",
    "# try out every combination of the above values\n",
    "enet_gs = GridSearchCV (enet_pipe, enet_params, scoring='roc_auc', cv = 5)\n",
    "enet_gs.fit (X_train, y_train)\n",
    "print(\"Best Params {}\".format(enet_gs.best_params_))\n",
    "enet_best = enet_gs.best_estimator_\n",
    "#Best Params {'enet__alpha': 0.1, 'enet__l1_ratio': 0.4, 'enet__tol': 0.0001}\n",
    "\n",
    "#enet_best = Pipeline([\n",
    "#    ('scaler', scaler),\n",
    "#    ('enet', ElasticNet(alpha = 0.1, l1_ratio = 0.4, tol = 0.0001))\n",
    "#]).fit(X_train, y_train)"
   ]
  },
  {
   "cell_type": "code",
   "execution_count": 47,
   "id": "80811dfe-1a44-4fc0-863b-6aa23732c764",
   "metadata": {},
   "outputs": [
    {
     "name": "stdout",
     "output_type": "stream",
     "text": [
      "0.8537024074521757\n",
      "0.839315169647176\n"
     ]
    }
   ],
   "source": [
    "enet_train_score = enet_best.score (X_train, y_train)\n",
    "print (enet_train_score)\n",
    "\n",
    "enet_test_score = enet_best.score (X_test, y_test)\n",
    "print (enet_test_score)"
   ]
  },
  {
   "cell_type": "markdown",
   "id": "957a44b1-382b-4fb2-a7ef-685d5a6e474f",
   "metadata": {},
   "source": [
    "## GradientBoostingRegressor"
   ]
  },
  {
   "cell_type": "code",
   "execution_count": 48,
   "id": "b15537e1-83c6-45ab-959e-ee1848da247d",
   "metadata": {},
   "outputs": [],
   "source": [
    "gb_pipe = Pipeline([\n",
    "    ('scaler', scaler),\n",
    "    ('gb', GradientBoostingRegressor())\n",
    "])\n",
    "\n",
    "gb_params = {\n",
    "    'gb__n_estimators'     : [0.1,1,10,0.01],\n",
    "    'gb__learning_rate'  :  [0.0001, 0.001, 0.01, 0.1, 1.0],\n",
    "    'gb__subsample'       : [0.5, 0.7, 1.0],\n",
    "    'gb__max_depth'       : [3, 7, 9]\n",
    "}\n",
    "\n",
    "# try out every combination of the above values\n",
    "#gb_gs = GridSearchCV (gb_pipe, gb_params, cv = RepeatedKFold(n_splits=10, n_repeats=3, random_state=1))\n",
    "#gb_gs.fit (X_train, y_train)\n",
    "#gb_best = gb_gs.best_estimator_\n",
    "#print(\"Best Params {}\".format(gb_gs.best_params_))\n",
    "#Best Params {'gb__learning_rate': 1.0, 'gb__max_depth': 7, 'gb__n_estimators': 10, 'gb__subsample': 1.0}\n",
    "\n",
    "gb_best = Pipeline([\n",
    "    ('scaler', scaler),\n",
    "    ('gb', GradientBoostingRegressor(learning_rate = 1, max_depth = 7, n_estimators = 10, subsample = 1))\n",
    "]).fit (X_train, y_train)\n"
   ]
  },
  {
   "cell_type": "code",
   "execution_count": 49,
   "id": "b057f874-232e-48b0-b55c-ec1650f4ba6a",
   "metadata": {},
   "outputs": [
    {
     "name": "stdout",
     "output_type": "stream",
     "text": [
      "0.9867026060760824\n",
      "0.9477382559575436\n"
     ]
    }
   ],
   "source": [
    "gb_train_score = gb_best.score (X_train, y_train)\n",
    "print (gb_train_score)\n",
    "\n",
    "gb_test_score = gb_best.score (X_test, y_test)\n",
    "print (gb_test_score)"
   ]
  },
  {
   "cell_type": "markdown",
   "id": "a85eadb6-bc8e-487b-a4b7-84b28e464aaf",
   "metadata": {},
   "source": [
    "## XgBoost"
   ]
  },
  {
   "cell_type": "code",
   "execution_count": 50,
   "id": "2e6183f5-6dae-4386-8b52-1f3cb996aa20",
   "metadata": {},
   "outputs": [],
   "source": [
    "xgb_pipe = Pipeline([\n",
    "    ('scaler', scaler),\n",
    "    ('xgb', xgb.XGBRegressor(eval_metric='rmsle'))\n",
    "])\n",
    "\n",
    "xgb_params = {\n",
    "    \"xgb__max_depth\":    [4, 5, 6],\n",
    "    \"xgb__n_estimators\": [500, 600, 700],\n",
    "    \"xgb__learning_rate\": [0.01, 0.015]\n",
    "}\n",
    "\n",
    "# try out every combination of the above values\n",
    "#xgb_gs = GridSearchCV(xgb_pipe, xgb_params, cv=5)\n",
    "#xgb_gs.fit(X_train, y_train)\n",
    "#print(\"Best Params {}\".format(xgb_gs.best_params_))\n",
    "#Best Params {'xgb__learning_rate': 0.015, 'xgb__max_depth': 6, 'xgb__n_estimators': 700}\n",
    "\n",
    "xgb_best = Pipeline([\n",
    "    ('scaler', scaler),\n",
    "    ('xgb', xgb.XGBRegressor(eval_metric='rmsle', n_estimators = 700, max_depth = 6, learning_rate = 0.015))\n",
    "]).fit (X_train, y_train)"
   ]
  },
  {
   "cell_type": "code",
   "execution_count": 51,
   "id": "8dc41281-409d-4943-845f-ccdb1f5226cf",
   "metadata": {},
   "outputs": [
    {
     "name": "stdout",
     "output_type": "stream",
     "text": [
      "0.9897484228687062\n",
      "0.9794001859025259\n"
     ]
    }
   ],
   "source": [
    "xgb_train_score = xgb_best.score (X_train, y_train)\n",
    "print (xgb_train_score)\n",
    "\n",
    "xgb_test_score = xgb_best.score (X_test, y_test)\n",
    "print (xgb_test_score)"
   ]
  },
  {
   "cell_type": "code",
   "execution_count": 52,
   "id": "e2a30371-d033-4be5-82cf-0cb12b136574",
   "metadata": {},
   "outputs": [],
   "source": [
    "# explain the model's predictions using SHAP\n",
    "explainer = shap.explainers.Linear(lr_pipe.named_steps [\"lr\"], scaler.transform(X))\n",
    "shap_values = explainer(scaler.transform(X))\n",
    "\n",
    "# visualize the model's dependence on the first feature\n",
    "#shap.plots.scatter(shap_values[:, 0])"
   ]
  },
  {
   "cell_type": "markdown",
   "id": "7e0dc385-f595-4794-9fd7-38873e1e04eb",
   "metadata": {},
   "source": [
    "## Summary of results"
   ]
  },
  {
   "cell_type": "code",
   "execution_count": 53,
   "id": "6ede9352-b6c6-4a56-8f75-d40c02f859e5",
   "metadata": {},
   "outputs": [],
   "source": [
    "results = pd.DataFrame ( columns = [\"Model\", \"R2 Accuracy\"],\n",
    "                        data = [\n",
    "                            [\"Linear Regression\", round (lr_test_score, 2)],\n",
    "                            [\"Support Vector Machine\", round (svm_test_score, 2)],\n",
    "                            [\"Decision Trees\", round (dt_test_score, 2)],\n",
    "                            [\"ElasticNet\", round (enet_test_score, 2)],\n",
    "                            [\"Random Forest\", round (rf_test_score, 2)],\n",
    "                            [\"Gradient Boosting\", round (gb_test_score, 2)],\n",
    "                            [\"Extreme Gradient Boosting\", round (xgb_test_score, 2)]\n",
    "                        ]\n",
    "                       )"
   ]
  },
  {
   "cell_type": "code",
   "execution_count": 54,
   "id": "353c0a7f-2cee-4aa0-a78f-3992ece63078",
   "metadata": {},
   "outputs": [
    {
     "data": {
      "text/html": [
       "<div>\n",
       "<style scoped>\n",
       "    .dataframe tbody tr th:only-of-type {\n",
       "        vertical-align: middle;\n",
       "    }\n",
       "\n",
       "    .dataframe tbody tr th {\n",
       "        vertical-align: top;\n",
       "    }\n",
       "\n",
       "    .dataframe thead th {\n",
       "        text-align: right;\n",
       "    }\n",
       "</style>\n",
       "<table border=\"1\" class=\"dataframe\">\n",
       "  <thead>\n",
       "    <tr style=\"text-align: right;\">\n",
       "      <th></th>\n",
       "      <th>Model</th>\n",
       "      <th>R2 Accuracy</th>\n",
       "    </tr>\n",
       "  </thead>\n",
       "  <tbody>\n",
       "    <tr>\n",
       "      <th>0</th>\n",
       "      <td>Linear Regression</td>\n",
       "      <td>0.90</td>\n",
       "    </tr>\n",
       "    <tr>\n",
       "      <th>1</th>\n",
       "      <td>Support Vector Machine</td>\n",
       "      <td>0.41</td>\n",
       "    </tr>\n",
       "    <tr>\n",
       "      <th>2</th>\n",
       "      <td>Decision Trees</td>\n",
       "      <td>0.96</td>\n",
       "    </tr>\n",
       "    <tr>\n",
       "      <th>3</th>\n",
       "      <td>ElasticNet</td>\n",
       "      <td>0.84</td>\n",
       "    </tr>\n",
       "    <tr>\n",
       "      <th>4</th>\n",
       "      <td>Random Forest</td>\n",
       "      <td>0.98</td>\n",
       "    </tr>\n",
       "    <tr>\n",
       "      <th>5</th>\n",
       "      <td>Gradient Boosting</td>\n",
       "      <td>0.95</td>\n",
       "    </tr>\n",
       "    <tr>\n",
       "      <th>6</th>\n",
       "      <td>Extreme Gradient Boosting</td>\n",
       "      <td>0.98</td>\n",
       "    </tr>\n",
       "  </tbody>\n",
       "</table>\n",
       "</div>"
      ],
      "text/plain": [
       "                       Model  R2 Accuracy\n",
       "0          Linear Regression         0.90\n",
       "1     Support Vector Machine         0.41\n",
       "2             Decision Trees         0.96\n",
       "3                 ElasticNet         0.84\n",
       "4              Random Forest         0.98\n",
       "5          Gradient Boosting         0.95\n",
       "6  Extreme Gradient Boosting         0.98"
      ]
     },
     "execution_count": 54,
     "metadata": {},
     "output_type": "execute_result"
    }
   ],
   "source": [
    "results"
   ]
  },
  {
   "cell_type": "code",
   "execution_count": 55,
   "id": "4832a5eb-4471-48db-ab47-17fbd6240250",
   "metadata": {},
   "outputs": [
    {
     "data": {
      "text/plain": [
       "Text(0.5, 0, 'Model')"
      ]
     },
     "execution_count": 55,
     "metadata": {},
     "output_type": "execute_result"
    },
    {
     "data": {
      "image/png": "[encoded data removed]",
      "text/plain": [
       "<Figure size 640x480 with 1 Axes>"
      ]
     },
     "metadata": {},
     "output_type": "display_data"
    }
   ],
   "source": [
    "ax = sns.barplot(results.sort_values(by='R2 Accuracy', ascending=False), x='Model', y='R2 Accuracy')\n",
    "ax.tick_params(axis='x', rotation=90)\n",
    "plt.title (\"Model Accuracy\")\n",
    "plt.ylabel('R2 Accuracy')\n",
    "plt.xlabel('Model')"
   ]
  },
  {
   "cell_type": "code",
   "execution_count": null,
   "id": "b345719c-8b08-480f-96ec-4b14c68a9979",
   "metadata": {},
   "outputs": [],
   "source": []
  }
 ],
 "metadata": {
  "kernelspec": {
   "display_name": "Python 3 (ipykernel)",
   "language": "python",
   "name": "python3"
  },
  "language_info": {
   "codemirror_mode": {
    "name": "ipython",
    "version": 3
   },
   "file_extension": ".py",
   "mimetype": "text/x-python",
   "name": "python",
   "nbconvert_exporter": "python",
   "pygments_lexer": "ipython3",
   "version": "3.11.7"
  }
 },
 "nbformat": 4,
 "nbformat_minor": 5
}
